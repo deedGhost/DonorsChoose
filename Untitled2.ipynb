{
 "cells": [
  {
   "cell_type": "markdown",
   "id": "b684fa41-f771-42bb-b71a-45d74f803e6b",
   "metadata": {},
   "source": [
    "# PROBLEM STATEMENT\n",
    "\n",
    "The task involves predicting whether a project proposal on the DonorsChoose platform will be approved based on various features provided in the dataset. DonorsChoose is a platform where teachers can post project proposals seeking funding for classroom resources. The dataset contains a range of features, including teacher and school information, project details, and textual descriptions, which need to be analyzed to make accurate predictions.\n",
    "\n",
    "The dataset used for this analysis is sourced from Kaggle.\n",
    "* Source: Kaggle - https://www.kaggle.com/code/saketranjan/group142-donorschoosedataset/notebook"
   ]
  },
  {
   "cell_type": "code",
   "execution_count": 1,
   "id": "69019d57-c32a-4c6d-95ef-ceb11418d75b",
   "metadata": {},
   "outputs": [],
   "source": [
    "# importing all the necessary libraries\n",
    "import pandas as pd\n",
    "import matplotlib.pyplot as plt\n",
    "import seaborn as sns\n",
    "import numpy as np\n",
    "import nltk\n",
    "from tqdm import tqdm\n",
    "from nltk.corpus import stopwords\n",
    "from nltk.tokenize import word_tokenize\n",
    "from nltk.stem import WordNetLemmatizer, PorterStemmer\n",
    "import string\n",
    "from sklearn.feature_extraction.text import TfidfVectorizer\n",
    "from sklearn.model_selection import train_test_split\n",
    "from sklearn.preprocessing import OneHotEncoder\n",
    "from sklearn.preprocessing import MinMaxScaler\n",
    "from scipy.sparse import hstack\n",
    "from sklearn.compose import ColumnTransformer\n",
    "from sklearn.pipeline import Pipeline\n",
    "from sklearn.linear_model import LogisticRegression\n",
    "from sklearn.neighbors import KNeighborsClassifier\n",
    "from sklearn.tree import DecisionTreeClassifier\n",
    "from sklearn.ensemble import RandomForestClassifier\n",
    "from sklearn.model_selection import GridSearchCV\n",
    "from sklearn.model_selection import RandomizedSearchCV\n",
    "from scipy.stats import randint\n",
    "import xgboost as xgb\n",
    "from sklearn.metrics import accuracy_score, classification_report\n",
    "from sklearn.model_selection import cross_val_score\n",
    "from sklearn.metrics import accuracy_score, classification_report"
   ]
  },
  {
   "cell_type": "code",
   "execution_count": 2,
   "id": "f4859055-e63d-4356-96bd-a0b932b7f3c9",
   "metadata": {},
   "outputs": [],
   "source": [
    "# load the dataset\n",
    "df = pd.read_csv('Preprocessed_DonorsChoose_dataset.csv')"
   ]
  },
  {
   "cell_type": "markdown",
   "id": "a172a032-de68-40e3-b93b-4b0d1c7bd04e",
   "metadata": {},
   "source": [
    "# DATA EXPLORATION"
   ]
  },
  {
   "cell_type": "code",
   "execution_count": 4,
   "id": "8f16f28f-d19c-469b-a763-664cf8e8f4ea",
   "metadata": {},
   "outputs": [
    {
     "name": "stdout",
     "output_type": "stream",
     "text": [
      "Number of rows: 109248\n",
      "Number of columns: 14\n"
     ]
    }
   ],
   "source": [
    "# Explore size and shape\n",
    "num_rows, num_cols = df.shape\n",
    "print(\"Number of rows:\", num_rows)\n",
    "print(\"Number of columns:\", num_cols)"
   ]
  },
  {
   "cell_type": "code",
   "execution_count": 5,
   "id": "14bcd979-9dea-409f-8792-4ea4e4bc3d4a",
   "metadata": {},
   "outputs": [
    {
     "data": {
      "text/plain": [
       "Index(['id', 'teacher_prefix', 'school_state', 'project_grade_category',\n",
       "       'project_subject_categories', 'project_subject_subcategories',\n",
       "       'teacher_number_of_previously_posted_projects', 'project_is_approved',\n",
       "       'price', 'quantity', 'cleaned_titles', 'cleaned_essays',\n",
       "       'cleaned_summary', 'isdigit_summary'],\n",
       "      dtype='object')"
      ]
     },
     "execution_count": 5,
     "metadata": {},
     "output_type": "execute_result"
    }
   ],
   "source": [
    "df.columns"
   ]
  },
  {
   "cell_type": "code",
   "execution_count": 6,
   "id": "05a2c373-6038-40cf-ac86-53300024de9f",
   "metadata": {},
   "outputs": [
    {
     "data": {
      "text/html": [
       "<div>\n",
       "<style scoped>\n",
       "    .dataframe tbody tr th:only-of-type {\n",
       "        vertical-align: middle;\n",
       "    }\n",
       "\n",
       "    .dataframe tbody tr th {\n",
       "        vertical-align: top;\n",
       "    }\n",
       "\n",
       "    .dataframe thead th {\n",
       "        text-align: right;\n",
       "    }\n",
       "</style>\n",
       "<table border=\"1\" class=\"dataframe\">\n",
       "  <thead>\n",
       "    <tr style=\"text-align: right;\">\n",
       "      <th></th>\n",
       "      <th>id</th>\n",
       "      <th>teacher_prefix</th>\n",
       "      <th>school_state</th>\n",
       "      <th>project_grade_category</th>\n",
       "      <th>project_subject_categories</th>\n",
       "      <th>project_subject_subcategories</th>\n",
       "      <th>teacher_number_of_previously_posted_projects</th>\n",
       "      <th>project_is_approved</th>\n",
       "      <th>price</th>\n",
       "      <th>quantity</th>\n",
       "      <th>cleaned_titles</th>\n",
       "      <th>cleaned_essays</th>\n",
       "      <th>cleaned_summary</th>\n",
       "      <th>isdigit_summary</th>\n",
       "    </tr>\n",
       "  </thead>\n",
       "  <tbody>\n",
       "    <tr>\n",
       "      <th>0</th>\n",
       "      <td>p253737</td>\n",
       "      <td>mrs</td>\n",
       "      <td>in</td>\n",
       "      <td>grades_prek_2</td>\n",
       "      <td>literacy_language</td>\n",
       "      <td>esl_literacy</td>\n",
       "      <td>0</td>\n",
       "      <td>0</td>\n",
       "      <td>154.60</td>\n",
       "      <td>23</td>\n",
       "      <td>educational support english learners home</td>\n",
       "      <td>students english learners working english seco...</td>\n",
       "      <td>students_need_opportunities_practice_beginning...</td>\n",
       "      <td>0</td>\n",
       "    </tr>\n",
       "    <tr>\n",
       "      <th>1</th>\n",
       "      <td>p258326</td>\n",
       "      <td>mr</td>\n",
       "      <td>fl</td>\n",
       "      <td>grades_6_8</td>\n",
       "      <td>history_civics_health_sports</td>\n",
       "      <td>civics_government_teamsports</td>\n",
       "      <td>7</td>\n",
       "      <td>1</td>\n",
       "      <td>299.00</td>\n",
       "      <td>1</td>\n",
       "      <td>wanted projector hungry learners</td>\n",
       "      <td>students arrive school eager learn polite gene...</td>\n",
       "      <td>students_need_projector_help_viewing_education...</td>\n",
       "      <td>0</td>\n",
       "    </tr>\n",
       "    <tr>\n",
       "      <th>2</th>\n",
       "      <td>p182444</td>\n",
       "      <td>ms</td>\n",
       "      <td>az</td>\n",
       "      <td>grades_6_8</td>\n",
       "      <td>health_sports</td>\n",
       "      <td>health_wellness_teamsports</td>\n",
       "      <td>1</td>\n",
       "      <td>0</td>\n",
       "      <td>516.85</td>\n",
       "      <td>22</td>\n",
       "      <td>soccer equipment awesome middle school students</td>\n",
       "      <td>true champions not always ones win guts mia ha...</td>\n",
       "      <td>students_need_shine_guards_athletic_socks_socc...</td>\n",
       "      <td>0</td>\n",
       "    </tr>\n",
       "    <tr>\n",
       "      <th>3</th>\n",
       "      <td>p246581</td>\n",
       "      <td>mrs</td>\n",
       "      <td>ky</td>\n",
       "      <td>grades_prek_2</td>\n",
       "      <td>literacy_language_math_science</td>\n",
       "      <td>literacy_mathematics</td>\n",
       "      <td>4</td>\n",
       "      <td>1</td>\n",
       "      <td>232.90</td>\n",
       "      <td>4</td>\n",
       "      <td>techie kindergarteners</td>\n",
       "      <td>work unique school filled esl english second l...</td>\n",
       "      <td>students_need_engage_reading_math_way_inspire_...</td>\n",
       "      <td>0</td>\n",
       "    </tr>\n",
       "    <tr>\n",
       "      <th>4</th>\n",
       "      <td>p104768</td>\n",
       "      <td>mrs</td>\n",
       "      <td>tx</td>\n",
       "      <td>grades_prek_2</td>\n",
       "      <td>math_science</td>\n",
       "      <td>mathematics</td>\n",
       "      <td>1</td>\n",
       "      <td>1</td>\n",
       "      <td>67.98</td>\n",
       "      <td>4</td>\n",
       "      <td>interactive math tools</td>\n",
       "      <td>second grade classroom next year made around 2...</td>\n",
       "      <td>students_need_hands_practice_mathematics_fun_p...</td>\n",
       "      <td>0</td>\n",
       "    </tr>\n",
       "  </tbody>\n",
       "</table>\n",
       "</div>"
      ],
      "text/plain": [
       "        id teacher_prefix school_state project_grade_category  \\\n",
       "0  p253737            mrs           in          grades_prek_2   \n",
       "1  p258326             mr           fl             grades_6_8   \n",
       "2  p182444             ms           az             grades_6_8   \n",
       "3  p246581            mrs           ky          grades_prek_2   \n",
       "4  p104768            mrs           tx          grades_prek_2   \n",
       "\n",
       "       project_subject_categories project_subject_subcategories  \\\n",
       "0               literacy_language                  esl_literacy   \n",
       "1    history_civics_health_sports  civics_government_teamsports   \n",
       "2                   health_sports    health_wellness_teamsports   \n",
       "3  literacy_language_math_science          literacy_mathematics   \n",
       "4                    math_science                   mathematics   \n",
       "\n",
       "   teacher_number_of_previously_posted_projects  project_is_approved   price  \\\n",
       "0                                             0                    0  154.60   \n",
       "1                                             7                    1  299.00   \n",
       "2                                             1                    0  516.85   \n",
       "3                                             4                    1  232.90   \n",
       "4                                             1                    1   67.98   \n",
       "\n",
       "   quantity                                   cleaned_titles  \\\n",
       "0        23        educational support english learners home   \n",
       "1         1                 wanted projector hungry learners   \n",
       "2        22  soccer equipment awesome middle school students   \n",
       "3         4                           techie kindergarteners   \n",
       "4         4                           interactive math tools   \n",
       "\n",
       "                                      cleaned_essays  \\\n",
       "0  students english learners working english seco...   \n",
       "1  students arrive school eager learn polite gene...   \n",
       "2  true champions not always ones win guts mia ha...   \n",
       "3  work unique school filled esl english second l...   \n",
       "4  second grade classroom next year made around 2...   \n",
       "\n",
       "                                     cleaned_summary  isdigit_summary  \n",
       "0  students_need_opportunities_practice_beginning...                0  \n",
       "1  students_need_projector_help_viewing_education...                0  \n",
       "2  students_need_shine_guards_athletic_socks_socc...                0  \n",
       "3  students_need_engage_reading_math_way_inspire_...                0  \n",
       "4  students_need_hands_practice_mathematics_fun_p...                0  "
      ]
     },
     "execution_count": 6,
     "metadata": {},
     "output_type": "execute_result"
    }
   ],
   "source": [
    "df.head()"
   ]
  },
  {
   "cell_type": "markdown",
   "id": "1a899506-6ac1-4a41-b25e-073ef8552801",
   "metadata": {},
   "source": [
    "OBSERVATIONS\n",
    "* id: Unique identifier for each project.\n",
    "* teacher_prefix: Prefix of the teacher (e.g., Mr., Mrs., Ms.).\n",
    "* school_state: State where the school is located.\n",
    "* project_grade_category: Grade category for the project (e.g., grades_prek_2, grades_6_8).\n",
    "* project_subject_categories: Broad subject category for the project (e.g., literacy_language, health_sports).\n",
    "* project_subject_subcategories: More specific subject subcategory (e.g., esl_literacy, civics_government_teamsports).\n",
    "* teacher_number_of_previously_posted_projects: Number of projects the teacher has previously posted.\n",
    "* project_is_approved: Whether the project is approved (1 for approved, 0 for not approved).\n",
    "* price: Cost of the project.\n",
    "* quantity: Number of items requested in the project.\n",
    "* cleaned_titles: Cleaned version of project titles.\n",
    "* cleaned_essays: Cleaned version of project essays.\n",
    "* cleaned_summary: Cleaned version of project summaries.\n",
    "* isdigit_summary: Binary indicator if the summary contains only digits (0 for no, 1 for yes)."
   ]
  },
  {
   "cell_type": "code",
   "execution_count": 8,
   "id": "401f0580-ad6a-48db-ba5c-2a65104570ff",
   "metadata": {},
   "outputs": [
    {
     "data": {
      "text/plain": [
       "project_is_approved\n",
       "1    92706\n",
       "0    16542\n",
       "Name: count, dtype: int64"
      ]
     },
     "execution_count": 8,
     "metadata": {},
     "output_type": "execute_result"
    }
   ],
   "source": [
    "df['project_is_approved'].value_counts()"
   ]
  },
  {
   "cell_type": "code",
   "execution_count": 9,
   "id": "69ced244-57c7-42e9-813d-46dd7a81c6e2",
   "metadata": {},
   "outputs": [
    {
     "name": "stdout",
     "output_type": "stream",
     "text": [
      "<class 'pandas.core.frame.DataFrame'>\n",
      "RangeIndex: 109248 entries, 0 to 109247\n",
      "Data columns (total 14 columns):\n",
      " #   Column                                        Non-Null Count   Dtype  \n",
      "---  ------                                        --------------   -----  \n",
      " 0   id                                            109248 non-null  object \n",
      " 1   teacher_prefix                                109248 non-null  object \n",
      " 2   school_state                                  109248 non-null  object \n",
      " 3   project_grade_category                        109248 non-null  object \n",
      " 4   project_subject_categories                    109248 non-null  object \n",
      " 5   project_subject_subcategories                 109248 non-null  object \n",
      " 6   teacher_number_of_previously_posted_projects  109248 non-null  int64  \n",
      " 7   project_is_approved                           109248 non-null  int64  \n",
      " 8   price                                         109248 non-null  float64\n",
      " 9   quantity                                      109248 non-null  int64  \n",
      " 10  cleaned_titles                                109205 non-null  object \n",
      " 11  cleaned_essays                                109248 non-null  object \n",
      " 12  cleaned_summary                               109248 non-null  object \n",
      " 13  isdigit_summary                               109248 non-null  int64  \n",
      "dtypes: float64(1), int64(4), object(9)\n",
      "memory usage: 11.7+ MB\n"
     ]
    }
   ],
   "source": [
    "df.info()"
   ]
  },
  {
   "cell_type": "code",
   "execution_count": 10,
   "id": "ad4aec54-adc5-4875-988e-19f934df5b4d",
   "metadata": {},
   "outputs": [
    {
     "data": {
      "text/html": [
       "<div>\n",
       "<style scoped>\n",
       "    .dataframe tbody tr th:only-of-type {\n",
       "        vertical-align: middle;\n",
       "    }\n",
       "\n",
       "    .dataframe tbody tr th {\n",
       "        vertical-align: top;\n",
       "    }\n",
       "\n",
       "    .dataframe thead th {\n",
       "        text-align: right;\n",
       "    }\n",
       "</style>\n",
       "<table border=\"1\" class=\"dataframe\">\n",
       "  <thead>\n",
       "    <tr style=\"text-align: right;\">\n",
       "      <th></th>\n",
       "      <th>teacher_number_of_previously_posted_projects</th>\n",
       "      <th>project_is_approved</th>\n",
       "      <th>price</th>\n",
       "      <th>quantity</th>\n",
       "      <th>isdigit_summary</th>\n",
       "    </tr>\n",
       "  </thead>\n",
       "  <tbody>\n",
       "    <tr>\n",
       "      <th>count</th>\n",
       "      <td>109248.000000</td>\n",
       "      <td>109248.000000</td>\n",
       "      <td>109248.000000</td>\n",
       "      <td>109248.000000</td>\n",
       "      <td>109248.000000</td>\n",
       "    </tr>\n",
       "    <tr>\n",
       "      <th>mean</th>\n",
       "      <td>11.153165</td>\n",
       "      <td>0.848583</td>\n",
       "      <td>298.119343</td>\n",
       "      <td>16.965610</td>\n",
       "      <td>0.144222</td>\n",
       "    </tr>\n",
       "    <tr>\n",
       "      <th>std</th>\n",
       "      <td>27.777154</td>\n",
       "      <td>0.358456</td>\n",
       "      <td>367.498030</td>\n",
       "      <td>26.182942</td>\n",
       "      <td>0.351317</td>\n",
       "    </tr>\n",
       "    <tr>\n",
       "      <th>min</th>\n",
       "      <td>0.000000</td>\n",
       "      <td>0.000000</td>\n",
       "      <td>0.660000</td>\n",
       "      <td>1.000000</td>\n",
       "      <td>0.000000</td>\n",
       "    </tr>\n",
       "    <tr>\n",
       "      <th>25%</th>\n",
       "      <td>0.000000</td>\n",
       "      <td>1.000000</td>\n",
       "      <td>104.310000</td>\n",
       "      <td>4.000000</td>\n",
       "      <td>0.000000</td>\n",
       "    </tr>\n",
       "    <tr>\n",
       "      <th>50%</th>\n",
       "      <td>2.000000</td>\n",
       "      <td>1.000000</td>\n",
       "      <td>206.220000</td>\n",
       "      <td>9.000000</td>\n",
       "      <td>0.000000</td>\n",
       "    </tr>\n",
       "    <tr>\n",
       "      <th>75%</th>\n",
       "      <td>9.000000</td>\n",
       "      <td>1.000000</td>\n",
       "      <td>379.000000</td>\n",
       "      <td>21.000000</td>\n",
       "      <td>0.000000</td>\n",
       "    </tr>\n",
       "    <tr>\n",
       "      <th>max</th>\n",
       "      <td>451.000000</td>\n",
       "      <td>1.000000</td>\n",
       "      <td>9999.000000</td>\n",
       "      <td>930.000000</td>\n",
       "      <td>1.000000</td>\n",
       "    </tr>\n",
       "  </tbody>\n",
       "</table>\n",
       "</div>"
      ],
      "text/plain": [
       "       teacher_number_of_previously_posted_projects  project_is_approved  \\\n",
       "count                                 109248.000000        109248.000000   \n",
       "mean                                      11.153165             0.848583   \n",
       "std                                       27.777154             0.358456   \n",
       "min                                        0.000000             0.000000   \n",
       "25%                                        0.000000             1.000000   \n",
       "50%                                        2.000000             1.000000   \n",
       "75%                                        9.000000             1.000000   \n",
       "max                                      451.000000             1.000000   \n",
       "\n",
       "               price       quantity  isdigit_summary  \n",
       "count  109248.000000  109248.000000    109248.000000  \n",
       "mean      298.119343      16.965610         0.144222  \n",
       "std       367.498030      26.182942         0.351317  \n",
       "min         0.660000       1.000000         0.000000  \n",
       "25%       104.310000       4.000000         0.000000  \n",
       "50%       206.220000       9.000000         0.000000  \n",
       "75%       379.000000      21.000000         0.000000  \n",
       "max      9999.000000     930.000000         1.000000  "
      ]
     },
     "execution_count": 10,
     "metadata": {},
     "output_type": "execute_result"
    }
   ],
   "source": [
    "df.describe()"
   ]
  },
  {
   "cell_type": "markdown",
   "id": "81a7aeaf-a333-4ce9-9319-5adf7db6dd4d",
   "metadata": {},
   "source": [
    "OBSERVATIONS\n",
    "* teacher_number_of_previously_posted_projects - The number of previously posted projects by teachers has a wide range, from 0 to 451. The median value is 2, meaning that half of the teachers have posted 2 or fewer projects. The mean is higher than the median, indicating a right-skewed distribution with some teachers having an exceptionally high number of previously posted projects.\n",
    "* project_is_approved - The dataset is likely to have class imbalance, with many more approved projects compared to non-approved ones. \n",
    "* price - The price varies significantly, with some projects being very expensive (up to 9999.00) while others are much cheaper. The mean price is higher than the median, which suggests a right-skewed distribution with a few very high values.\n",
    "* quantity - Quantity also shows high variability, with a few projects having very large quantities. The mean is higher than the median, suggesting a right-skewed distribution.\n",
    "* isdigit_summary - This is a binary feature indicating the presence of digits in the summary. The mean of 0.14 indicates that this feature is present in 14% of the summaries. The feature is sparse and not widely used."
   ]
  },
  {
   "cell_type": "code",
   "execution_count": 12,
   "id": "f37421ff-fca6-4173-be8d-e33ecd33fe40",
   "metadata": {},
   "outputs": [
    {
     "data": {
      "text/plain": [
       "project_is_approved\n",
       "1    92706\n",
       "0    16542\n",
       "Name: count, dtype: int64"
      ]
     },
     "execution_count": 12,
     "metadata": {},
     "output_type": "execute_result"
    }
   ],
   "source": [
    "df['project_is_approved'].value_counts()"
   ]
  },
  {
   "cell_type": "code",
   "execution_count": 13,
   "id": "3da2e0f2-bfe1-4c93-b7e4-726804f7eee9",
   "metadata": {},
   "outputs": [
    {
     "data": {
      "text/plain": [
       "project_subject_subcategories\n",
       "literacy                          9486\n",
       "literacy_mathematics              8325\n",
       "literature_writing_mathematics    5923\n",
       "literacy_literature_writing       5571\n",
       "mathematics                       5379\n",
       "                                  ... \n",
       "communityservice_gym_fitness         1\n",
       "parentinvolvement_teamsports         1\n",
       "gym_fitness_socialsciences           1\n",
       "communityservice_music               1\n",
       "economics_foreignlanguages           1\n",
       "Name: count, Length: 401, dtype: int64"
      ]
     },
     "execution_count": 13,
     "metadata": {},
     "output_type": "execute_result"
    }
   ],
   "source": [
    "df['project_subject_subcategories'].value_counts()"
   ]
  },
  {
   "cell_type": "code",
   "execution_count": 14,
   "id": "956f90b4-9c2f-4617-831b-0ed7f099766d",
   "metadata": {},
   "outputs": [
    {
     "data": {
      "text/plain": [
       "project_subject_categories\n",
       "literacy_language                       23655\n",
       "math_science                            17072\n",
       "literacy_language_math_science          14636\n",
       "health_sports                           10177\n",
       "music_arts                               5180\n",
       "specialneeds                             4226\n",
       "literacy_language_specialneeds           3961\n",
       "appliedlearning                          3771\n",
       "math_science_literacy_language           2289\n",
       "appliedlearning_literacy_language        2191\n",
       "history_civics                           1851\n",
       "math_science_specialneeds                1840\n",
       "literacy_language_music_arts             1757\n",
       "math_science_music_arts                  1642\n",
       "appliedlearning_specialneeds             1467\n",
       "history_civics_literacy_language         1421\n",
       "health_sports_specialneeds               1391\n",
       "warmth_care_hunger                       1309\n",
       "math_science_appliedlearning             1220\n",
       "appliedlearning_math_science             1052\n",
       "literacy_language_history_civics          809\n",
       "health_sports_literacy_language           803\n",
       "appliedlearning_music_arts                758\n",
       "math_science_history_civics               652\n",
       "literacy_language_appliedlearning         636\n",
       "appliedlearning_health_sports             608\n",
       "math_science_health_sports                414\n",
       "history_civics_math_science               322\n",
       "history_civics_music_arts                 312\n",
       "specialneeds_music_arts                   302\n",
       "health_sports_math_science                271\n",
       "history_civics_specialneeds               252\n",
       "health_sports_appliedlearning             192\n",
       "appliedlearning_history_civics            178\n",
       "health_sports_music_arts                  155\n",
       "music_arts_specialneeds                   138\n",
       "literacy_language_health_sports            72\n",
       "health_sports_history_civics               43\n",
       "history_civics_appliedlearning             42\n",
       "specialneeds_health_sports                 42\n",
       "specialneeds_warmth_care_hunger            23\n",
       "health_sports_warmth_care_hunger           23\n",
       "music_arts_health_sports                   19\n",
       "music_arts_history_civics                  18\n",
       "history_civics_health_sports               13\n",
       "math_science_warmth_care_hunger            11\n",
       "music_arts_appliedlearning                 10\n",
       "appliedlearning_warmth_care_hunger         10\n",
       "literacy_language_warmth_care_hunger        9\n",
       "music_arts_warmth_care_hunger               2\n",
       "history_civics_warmth_care_hunger           1\n",
       "Name: count, dtype: int64"
      ]
     },
     "execution_count": 14,
     "metadata": {},
     "output_type": "execute_result"
    }
   ],
   "source": [
    "df['project_subject_categories'].value_counts()"
   ]
  },
  {
   "cell_type": "code",
   "execution_count": 15,
   "id": "d83622c2-a53c-4298-9f16-3ea4bc500b0e",
   "metadata": {},
   "outputs": [
    {
     "data": {
      "text/plain": [
       "51"
      ]
     },
     "execution_count": 15,
     "metadata": {},
     "output_type": "execute_result"
    }
   ],
   "source": [
    "df['project_subject_categories'].nunique()"
   ]
  },
  {
   "cell_type": "code",
   "execution_count": 16,
   "id": "038e6bd6-8968-4238-92ff-1566b3727c28",
   "metadata": {},
   "outputs": [
    {
     "data": {
      "text/plain": [
       "teacher_prefix\n",
       "mrs        57272\n",
       "ms         38955\n",
       "mr         10648\n",
       "teacher     2360\n",
       "dr            13\n",
       "Name: count, dtype: int64"
      ]
     },
     "execution_count": 16,
     "metadata": {},
     "output_type": "execute_result"
    }
   ],
   "source": [
    "df['teacher_prefix'].value_counts()"
   ]
  },
  {
   "cell_type": "code",
   "execution_count": 17,
   "id": "b9607d62-3800-433e-9bcf-f8d236e2f7d3",
   "metadata": {},
   "outputs": [
    {
     "data": {
      "text/plain": [
       "school_state\n",
       "ca    15388\n",
       "tx     7396\n",
       "ny     7318\n",
       "fl     6185\n",
       "nc     5091\n",
       "il     4350\n",
       "ga     3963\n",
       "sc     3936\n",
       "mi     3161\n",
       "pa     3109\n",
       "in     2620\n",
       "mo     2576\n",
       "oh     2467\n",
       "la     2394\n",
       "ma     2389\n",
       "wa     2334\n",
       "ok     2276\n",
       "nj     2237\n",
       "az     2147\n",
       "va     2045\n",
       "wi     1827\n",
       "al     1762\n",
       "ut     1731\n",
       "tn     1688\n",
       "ct     1663\n",
       "md     1514\n",
       "nv     1367\n",
       "ms     1323\n",
       "ky     1304\n",
       "or     1242\n",
       "mn     1208\n",
       "co     1111\n",
       "ar     1049\n",
       "id      693\n",
       "ia      666\n",
       "ks      634\n",
       "nm      557\n",
       "dc      516\n",
       "hi      507\n",
       "me      505\n",
       "wv      503\n",
       "nh      348\n",
       "ak      345\n",
       "de      343\n",
       "ne      309\n",
       "sd      300\n",
       "ri      285\n",
       "mt      245\n",
       "nd      143\n",
       "wy       98\n",
       "vt       80\n",
       "Name: count, dtype: int64"
      ]
     },
     "execution_count": 17,
     "metadata": {},
     "output_type": "execute_result"
    }
   ],
   "source": [
    "df['school_state'].value_counts()"
   ]
  },
  {
   "cell_type": "code",
   "execution_count": 18,
   "id": "8e2c319d-301b-4a7a-ad29-b5f4e2e9a83e",
   "metadata": {},
   "outputs": [
    {
     "data": {
      "text/plain": [
       "51"
      ]
     },
     "execution_count": 18,
     "metadata": {},
     "output_type": "execute_result"
    }
   ],
   "source": [
    "df['school_state'].nunique()"
   ]
  },
  {
   "cell_type": "code",
   "execution_count": 19,
   "id": "a482dfaa-dcdc-4efc-a42f-5b308e6b2715",
   "metadata": {},
   "outputs": [
    {
     "data": {
      "text/plain": [
       "project_grade_category\n",
       "grades_prek_2    44225\n",
       "grades_3_5       37137\n",
       "grades_6_8       16923\n",
       "grades_9_12      10963\n",
       "Name: count, dtype: int64"
      ]
     },
     "execution_count": 19,
     "metadata": {},
     "output_type": "execute_result"
    }
   ],
   "source": [
    "df['project_grade_category'].value_counts()"
   ]
  },
  {
   "cell_type": "code",
   "execution_count": 20,
   "id": "6599aed9-20df-4795-b2d9-9287a966e019",
   "metadata": {},
   "outputs": [
    {
     "data": {
      "text/plain": [
       "teacher_number_of_previously_posted_projects\n",
       "0      30014\n",
       "1      16058\n",
       "2      10350\n",
       "3       7110\n",
       "4       5266\n",
       "       ...  \n",
       "270        1\n",
       "294        1\n",
       "425        1\n",
       "325        1\n",
       "306        1\n",
       "Name: count, Length: 374, dtype: int64"
      ]
     },
     "execution_count": 20,
     "metadata": {},
     "output_type": "execute_result"
    }
   ],
   "source": [
    "df['teacher_number_of_previously_posted_projects'].value_counts()"
   ]
  },
  {
   "cell_type": "markdown",
   "id": "234c83a8-f664-4893-b69c-0875faff8024",
   "metadata": {},
   "source": [
    "# Handling Missing Values"
   ]
  },
  {
   "cell_type": "code",
   "execution_count": 23,
   "id": "067995c5-ef46-4dbe-951f-2b7186abd223",
   "metadata": {},
   "outputs": [
    {
     "name": "stdout",
     "output_type": "stream",
     "text": [
      "Missing values in each column:\n",
      " id                                               0\n",
      "teacher_prefix                                   0\n",
      "school_state                                     0\n",
      "project_grade_category                           0\n",
      "project_subject_categories                       0\n",
      "project_subject_subcategories                    0\n",
      "teacher_number_of_previously_posted_projects     0\n",
      "project_is_approved                              0\n",
      "price                                            0\n",
      "quantity                                         0\n",
      "cleaned_titles                                  43\n",
      "cleaned_essays                                   0\n",
      "cleaned_summary                                  0\n",
      "isdigit_summary                                  0\n",
      "dtype: int64\n"
     ]
    }
   ],
   "source": [
    "# Check for missing values\n",
    "missing_values = df.isnull().sum()\n",
    "print(\"Missing values in each column:\\n\", missing_values)"
   ]
  },
  {
   "cell_type": "markdown",
   "id": "eb4e358e-ddb0-4f67-9f0f-b835936b8dfc",
   "metadata": {},
   "source": [
    "Using the mode method here ensures that the missing values are replaced with the most frequent title, which might help maintain the distribution and relationships within the dataset. If we want to keep the dataset as clean as possible and avoid introducing a new category we opt for mode imputation."
   ]
  },
  {
   "cell_type": "code",
   "execution_count": 25,
   "id": "0089029d-bbe1-4d84-8fc1-0413aa01c85a",
   "metadata": {},
   "outputs": [
    {
     "name": "stdout",
     "output_type": "stream",
     "text": [
      "0\n"
     ]
    }
   ],
   "source": [
    "# Handling missing values by fill my mode method\n",
    "mode_title = df['cleaned_titles'].mode()[0]\n",
    "df['cleaned_titles'] = df['cleaned_titles'].fillna(mode_title)\n",
    "print(df['cleaned_titles'].isnull().sum())"
   ]
  },
  {
   "cell_type": "code",
   "execution_count": 26,
   "id": "773d13c7-f016-4627-ac20-179e6d900c80",
   "metadata": {},
   "outputs": [
    {
     "data": {
      "text/html": [
       "<div>\n",
       "<style scoped>\n",
       "    .dataframe tbody tr th:only-of-type {\n",
       "        vertical-align: middle;\n",
       "    }\n",
       "\n",
       "    .dataframe tbody tr th {\n",
       "        vertical-align: top;\n",
       "    }\n",
       "\n",
       "    .dataframe thead th {\n",
       "        text-align: right;\n",
       "    }\n",
       "</style>\n",
       "<table border=\"1\" class=\"dataframe\">\n",
       "  <thead>\n",
       "    <tr style=\"text-align: right;\">\n",
       "      <th></th>\n",
       "      <th>id</th>\n",
       "      <th>teacher_prefix</th>\n",
       "      <th>school_state</th>\n",
       "      <th>project_grade_category</th>\n",
       "      <th>project_subject_categories</th>\n",
       "      <th>project_subject_subcategories</th>\n",
       "      <th>teacher_number_of_previously_posted_projects</th>\n",
       "      <th>project_is_approved</th>\n",
       "      <th>price</th>\n",
       "      <th>quantity</th>\n",
       "      <th>cleaned_titles</th>\n",
       "      <th>cleaned_essays</th>\n",
       "      <th>cleaned_summary</th>\n",
       "      <th>isdigit_summary</th>\n",
       "    </tr>\n",
       "  </thead>\n",
       "  <tbody>\n",
       "    <tr>\n",
       "      <th>0</th>\n",
       "      <td>p253737</td>\n",
       "      <td>mrs</td>\n",
       "      <td>in</td>\n",
       "      <td>grades_prek_2</td>\n",
       "      <td>literacy_language</td>\n",
       "      <td>esl_literacy</td>\n",
       "      <td>0</td>\n",
       "      <td>0</td>\n",
       "      <td>154.60</td>\n",
       "      <td>23</td>\n",
       "      <td>educational support english learners home</td>\n",
       "      <td>students english learners working english seco...</td>\n",
       "      <td>students_need_opportunities_practice_beginning...</td>\n",
       "      <td>0</td>\n",
       "    </tr>\n",
       "    <tr>\n",
       "      <th>1</th>\n",
       "      <td>p258326</td>\n",
       "      <td>mr</td>\n",
       "      <td>fl</td>\n",
       "      <td>grades_6_8</td>\n",
       "      <td>history_civics_health_sports</td>\n",
       "      <td>civics_government_teamsports</td>\n",
       "      <td>7</td>\n",
       "      <td>1</td>\n",
       "      <td>299.00</td>\n",
       "      <td>1</td>\n",
       "      <td>wanted projector hungry learners</td>\n",
       "      <td>students arrive school eager learn polite gene...</td>\n",
       "      <td>students_need_projector_help_viewing_education...</td>\n",
       "      <td>0</td>\n",
       "    </tr>\n",
       "    <tr>\n",
       "      <th>2</th>\n",
       "      <td>p182444</td>\n",
       "      <td>ms</td>\n",
       "      <td>az</td>\n",
       "      <td>grades_6_8</td>\n",
       "      <td>health_sports</td>\n",
       "      <td>health_wellness_teamsports</td>\n",
       "      <td>1</td>\n",
       "      <td>0</td>\n",
       "      <td>516.85</td>\n",
       "      <td>22</td>\n",
       "      <td>soccer equipment awesome middle school students</td>\n",
       "      <td>true champions not always ones win guts mia ha...</td>\n",
       "      <td>students_need_shine_guards_athletic_socks_socc...</td>\n",
       "      <td>0</td>\n",
       "    </tr>\n",
       "    <tr>\n",
       "      <th>3</th>\n",
       "      <td>p246581</td>\n",
       "      <td>mrs</td>\n",
       "      <td>ky</td>\n",
       "      <td>grades_prek_2</td>\n",
       "      <td>literacy_language_math_science</td>\n",
       "      <td>literacy_mathematics</td>\n",
       "      <td>4</td>\n",
       "      <td>1</td>\n",
       "      <td>232.90</td>\n",
       "      <td>4</td>\n",
       "      <td>techie kindergarteners</td>\n",
       "      <td>work unique school filled esl english second l...</td>\n",
       "      <td>students_need_engage_reading_math_way_inspire_...</td>\n",
       "      <td>0</td>\n",
       "    </tr>\n",
       "    <tr>\n",
       "      <th>4</th>\n",
       "      <td>p104768</td>\n",
       "      <td>mrs</td>\n",
       "      <td>tx</td>\n",
       "      <td>grades_prek_2</td>\n",
       "      <td>math_science</td>\n",
       "      <td>mathematics</td>\n",
       "      <td>1</td>\n",
       "      <td>1</td>\n",
       "      <td>67.98</td>\n",
       "      <td>4</td>\n",
       "      <td>interactive math tools</td>\n",
       "      <td>second grade classroom next year made around 2...</td>\n",
       "      <td>students_need_hands_practice_mathematics_fun_p...</td>\n",
       "      <td>0</td>\n",
       "    </tr>\n",
       "  </tbody>\n",
       "</table>\n",
       "</div>"
      ],
      "text/plain": [
       "        id teacher_prefix school_state project_grade_category  \\\n",
       "0  p253737            mrs           in          grades_prek_2   \n",
       "1  p258326             mr           fl             grades_6_8   \n",
       "2  p182444             ms           az             grades_6_8   \n",
       "3  p246581            mrs           ky          grades_prek_2   \n",
       "4  p104768            mrs           tx          grades_prek_2   \n",
       "\n",
       "       project_subject_categories project_subject_subcategories  \\\n",
       "0               literacy_language                  esl_literacy   \n",
       "1    history_civics_health_sports  civics_government_teamsports   \n",
       "2                   health_sports    health_wellness_teamsports   \n",
       "3  literacy_language_math_science          literacy_mathematics   \n",
       "4                    math_science                   mathematics   \n",
       "\n",
       "   teacher_number_of_previously_posted_projects  project_is_approved   price  \\\n",
       "0                                             0                    0  154.60   \n",
       "1                                             7                    1  299.00   \n",
       "2                                             1                    0  516.85   \n",
       "3                                             4                    1  232.90   \n",
       "4                                             1                    1   67.98   \n",
       "\n",
       "   quantity                                   cleaned_titles  \\\n",
       "0        23        educational support english learners home   \n",
       "1         1                 wanted projector hungry learners   \n",
       "2        22  soccer equipment awesome middle school students   \n",
       "3         4                           techie kindergarteners   \n",
       "4         4                           interactive math tools   \n",
       "\n",
       "                                      cleaned_essays  \\\n",
       "0  students english learners working english seco...   \n",
       "1  students arrive school eager learn polite gene...   \n",
       "2  true champions not always ones win guts mia ha...   \n",
       "3  work unique school filled esl english second l...   \n",
       "4  second grade classroom next year made around 2...   \n",
       "\n",
       "                                     cleaned_summary  isdigit_summary  \n",
       "0  students_need_opportunities_practice_beginning...                0  \n",
       "1  students_need_projector_help_viewing_education...                0  \n",
       "2  students_need_shine_guards_athletic_socks_socc...                0  \n",
       "3  students_need_engage_reading_math_way_inspire_...                0  \n",
       "4  students_need_hands_practice_mathematics_fun_p...                0  "
      ]
     },
     "execution_count": 26,
     "metadata": {},
     "output_type": "execute_result"
    }
   ],
   "source": [
    "df.head()"
   ]
  },
  {
   "cell_type": "markdown",
   "id": "fe11d1ab-7e49-481f-9691-92a7066f8fcf",
   "metadata": {},
   "source": [
    "# Visualizing Data"
   ]
  },
  {
   "cell_type": "code",
   "execution_count": 28,
   "id": "5a0c20a2-3ba9-4963-9032-47ec9e09914b",
   "metadata": {},
   "outputs": [
    {
     "data": {
      "image/png": "[encoded data removed]",
      "text/plain": [
       "<Figure size 800x600 with 1 Axes>"
      ]
     },
     "metadata": {},
     "output_type": "display_data"
    },
    {
     "name": "stdout",
     "output_type": "stream",
     "text": [
      "Percentage of approved projects:85%\n",
      "Percentage of NOT approved projects:15%\n"
     ]
    }
   ],
   "source": [
    "# Count the number of approved and not approved projects\n",
    "approval_counts = df['project_is_approved'].value_counts()\n",
    "\n",
    "plt.figure(figsize=(8, 6))\n",
    "plt.bar(approval_counts.index, approval_counts.values, color=['red', 'green'])\n",
    "\n",
    "plt.xlabel('Project Approval Status')\n",
    "plt.ylabel('Number of Projects')\n",
    "plt.title('Number of Projects by Approval Status')\n",
    "plt.xticks(ticks=[0, 1], labels=['Not Approved', 'Approved'])\n",
    "\n",
    "plt.show()\n",
    "\n",
    "print('Percentage of approved projects:{}%'.format(round((approval_counts[1]*100)/len(df)),2))\n",
    "print('Percentage of NOT approved projects:{}%'.format(round((approval_counts[0]*100)/len(df)),2))"
   ]
  },
  {
   "cell_type": "markdown",
   "id": "d5e7b30e-25d7-4ffe-b444-c8c745b7708a",
   "metadata": {},
   "source": [
    "This shows the data imbalance."
   ]
  },
  {
   "cell_type": "code",
   "execution_count": 35,
   "id": "0ef52906-1d7b-4cbd-8cb3-701d4ecc2a84",
   "metadata": {},
   "outputs": [
    {
     "data": {
      "image/png": "[encoded data removed]",
      "text/plain": [
       "<Figure size 1200x800 with 1 Axes>"
      ]
     },
     "metadata": {},
     "output_type": "display_data"
    }
   ],
   "source": [
    "# Group by school_state and sum project_is_approved to get the number of approved projects per state\n",
    "state_approval_counts = df.groupby('school_state')['project_is_approved'].sum().sort_values()\n",
    "\n",
    "plt.figure(figsize=(12, 8))\n",
    "plt.bar(state_approval_counts.index, state_approval_counts.values, color='skyblue')\n",
    "\n",
    "plt.xlabel('School State') # Defining the x-axis\n",
    "plt.ylabel('Number of Approved Projects') # Defining the y-axis\n",
    "plt.title('Number of Approved Projects by State')\n",
    "plt.xticks(rotation=45)\n",
    "\n",
    "# Show the plot\n",
    "plt.show()"
   ]
  },
  {
   "cell_type": "code",
   "execution_count": 45,
   "id": "c1aa5d46-9299-44a4-b593-c8798063b12e",
   "metadata": {},
   "outputs": [
    {
     "data": {
      "image/png": "[encoded data removed]",
      "text/plain": [
       "<Figure size 1000x600 with 1 Axes>"
      ]
     },
     "metadata": {},
     "output_type": "display_data"
    }
   ],
   "source": [
    "# Group by teacher_prefix and sum project_is_approved to get the number of approved projects per prefix\n",
    "prefix_approval_counts = df.groupby('teacher_prefix')['project_is_approved'].sum().sort_values()\n",
    "plt.figure(figsize=(10, 6))\n",
    "plt.bar(prefix_approval_counts.index, prefix_approval_counts.values, color='lightcoral')\n",
    "plt.xlabel('Teacher Prefix')\n",
    "plt.ylabel('Number of Approved Projects')\n",
    "plt.title('Number of Approved Projects by Teacher Prefix')\n",
    "plt.show()"
   ]
  },
  {
   "cell_type": "code",
   "execution_count": 50,
   "id": "6b0bb2c8-76d0-48ca-be86-da1e23a093b0",
   "metadata": {},
   "outputs": [
    {
     "data": {
      "image/png": "[encoded data removed]",
      "text/plain": [
       "<Figure size 1200x800 with 1 Axes>"
      ]
     },
     "metadata": {},
     "output_type": "display_data"
    }
   ],
   "source": [
    "# Group by project_grade_category and sum project_is_approved to get the number of approved projects per grade category\n",
    "grade_category_approval_counts = df.groupby('project_grade_category')['project_is_approved'].sum().sort_values()\n",
    "plt.figure(figsize=(12, 8))\n",
    "plt.bar(grade_category_approval_counts.index, grade_category_approval_counts.values, color='orchid')\n",
    "plt.xlabel('Project Grade Category')\n",
    "plt.ylabel('Number of Approved Projects')\n",
    "plt.title('Number of Approved Projects by Project Grade Category')\n",
    "plt.show()"
   ]
  },
  {
   "cell_type": "markdown",
   "id": "d32c03a1-dc65-4167-bf88-b7682dfe5959",
   "metadata": {},
   "source": [
    "# Checking For Outliers\n",
    "* Outliers: These are data points that differ significantly from other observations. They can distort statistical analyses and model performance."
   ]
  },
  {
   "cell_type": "code",
   "execution_count": 54,
   "id": "4b3a5842-f444-488f-9c9e-c4dd6b5b58ae",
   "metadata": {},
   "outputs": [],
   "source": [
    "# Helper function to calculate percentiles, IQR, and plot boxplot\n",
    "def analyze_feature(df, feature_name):\n",
    "    # Calculate percentiles\n",
    "    q1 = np.percentile(df[feature_name], 25)\n",
    "    q2 = np.percentile(df[feature_name], 50)\n",
    "    q3 = np.percentile(df[feature_name], 75)\n",
    "    q90 = np.percentile(df[feature_name], 90)\n",
    "    q95 = np.percentile(df[feature_name], 95)\n",
    "    q99 = np.percentile(df[feature_name], 99)\n",
    "    q100 = np.percentile(df[feature_name], 100)\n",
    "\n",
    "    # Print percentiles\n",
    "    print(f'{feature_name} - 25th percentile:', q1)\n",
    "    print(f'{feature_name} - 50th percentile:', q2)\n",
    "    print(f'{feature_name} - 75th percentile:', q3)\n",
    "    print(f'{feature_name} - 90th percentile:', q90)\n",
    "    print(f'{feature_name} - 95th percentile:', q95)\n",
    "    print(f'{feature_name} - 99th percentile:', q99)\n",
    "    print(f'{feature_name} - 100th percentile:', q100)\n",
    "\n",
    "    # Generate a boxplot\n",
    "    plt.figure(figsize=(10, 6))\n",
    "    sns.boxplot(x=df[feature_name])\n",
    "    plt.title(f'Boxplot of {feature_name}')\n",
    "    plt.xlabel(feature_name)\n",
    "    plt.show()"
   ]
  },
  {
   "cell_type": "code",
   "execution_count": 55,
   "id": "34e3a5c7-42db-4b0a-84ea-c5dddcbdcf66",
   "metadata": {},
   "outputs": [
    {
     "name": "stdout",
     "output_type": "stream",
     "text": [
      "quantity - 25th percentile: 4.0\n",
      "quantity - 50th percentile: 9.0\n",
      "quantity - 75th percentile: 21.0\n",
      "quantity - 90th percentile: 39.0\n",
      "quantity - 95th percentile: 58.0\n",
      "quantity - 99th percentile: 120.0\n",
      "quantity - 100th percentile: 930.0\n"
     ]
    },
    {
     "data": {
      "image/png": "[encoded data removed]",
      "text/plain": [
       "<Figure size 1000x600 with 1 Axes>"
      ]
     },
     "metadata": {},
     "output_type": "display_data"
    }
   ],
   "source": [
    "analyze_feature(df, 'quantity')"
   ]
  },
  {
   "cell_type": "code",
   "execution_count": 57,
   "id": "5c17a2e8-adae-4c97-b441-a6129e53f9e9",
   "metadata": {},
   "outputs": [
    {
     "name": "stdout",
     "output_type": "stream",
     "text": [
      "price - 25th percentile: 104.31\n",
      "price - 50th percentile: 206.22\n",
      "price - 75th percentile: 379.0\n",
      "price - 90th percentile: 619.4530000000001\n",
      "price - 95th percentile: 839.9865\n",
      "price - 99th percentile: 1583.449999999999\n",
      "price - 100th percentile: 9999.0\n"
     ]
    },
    {
     "data": {
      "image/png": "[encoded data removed]",
      "text/plain": [
       "<Figure size 1000x600 with 1 Axes>"
      ]
     },
     "metadata": {},
     "output_type": "display_data"
    }
   ],
   "source": [
    "analyze_feature(df, 'price')"
   ]
  },
  {
   "cell_type": "code",
   "execution_count": 58,
   "id": "13e1afa1-b042-42fd-8ed7-8790a932b320",
   "metadata": {},
   "outputs": [
    {
     "name": "stdout",
     "output_type": "stream",
     "text": [
      "teacher_number_of_previously_posted_projects - 25th percentile: 0.0\n",
      "teacher_number_of_previously_posted_projects - 50th percentile: 2.0\n",
      "teacher_number_of_previously_posted_projects - 75th percentile: 9.0\n",
      "teacher_number_of_previously_posted_projects - 90th percentile: 28.0\n",
      "teacher_number_of_previously_posted_projects - 95th percentile: 53.0\n",
      "teacher_number_of_previously_posted_projects - 99th percentile: 139.0\n",
      "teacher_number_of_previously_posted_projects - 100th percentile: 451.0\n"
     ]
    },
    {
     "data": {
      "image/png": "[encoded data removed]",
      "text/plain": [
       "<Figure size 1000x600 with 1 Axes>"
      ]
     },
     "metadata": {},
     "output_type": "display_data"
    }
   ],
   "source": [
    "analyze_feature(df, 'teacher_number_of_previously_posted_projects')"
   ]
  },
  {
   "cell_type": "markdown",
   "id": "d0b06a12-39eb-49b6-b037-9cf6caa3ee80",
   "metadata": {},
   "source": [
    "# Handling Textual Data\n",
    "\n",
    "Steps for textual data:\n",
    "* Tokenization: Splits each text into individual words or tokens using word_tokenize from NLTK.\n",
    "* Lowercasing: Converts all tokens to lowercase to ensure consistency in text processing.\n",
    "* Removing Punctuation: Strips out non-alphanumeric characters using list comprehension with word.isalnum().\n",
    "* Removing Stopwords: Filters out common English stopwords using stopwords.words('english').\n",
    "* Lemmatization: Reduces words to their base or root form using WordNetLemmatizer from NLTK."
   ]
  },
  {
   "cell_type": "code",
   "execution_count": 63,
   "id": "a549b1f3-3446-4383-9fc0-9dfdd884ea54",
   "metadata": {},
   "outputs": [],
   "source": [
    "# Initialize lemmatizer\n",
    "lemmatizer = WordNetLemmatizer()\n",
    "stop_words = set(stopwords.words('english'))\n",
    "# Function to preprocess text with lemmatization\n",
    "def preprocess_text_lemmatize(text):\n",
    "    # Tokenization\n",
    "    lst=[]\n",
    "    for i in text.split():\n",
    "        i=i.lower() \n",
    "        if i.isalnum() and i not in stop_words:\n",
    "           lst.append(lemmatizer.lemmatize(i)) \n",
    "\n",
    "    return \" \".join(lst)"
   ]
  },
  {
   "cell_type": "code",
   "execution_count": 65,
   "id": "817e32c9-4137-4073-bba7-5764f232a15d",
   "metadata": {},
   "outputs": [
    {
     "name": "stderr",
     "output_type": "stream",
     "text": [
      "100%|████████████████████████████████████████████████████████████████████████| 109248/109248 [01:26<00:00, 1265.28it/s]\n"
     ]
    }
   ],
   "source": [
    "lst=[ ]\n",
    "for i in tqdm(df['cleaned_essays']):\n",
    "    lst.append(preprocess_text_lemmatize(i))"
   ]
  },
  {
   "cell_type": "code",
   "execution_count": 69,
   "id": "44feafef-2ff1-49f1-831e-93e94eaaf071",
   "metadata": {},
   "outputs": [],
   "source": [
    "df['cleaned_essays_tokens_lemmatized'] = lst"
   ]
  },
  {
   "cell_type": "code",
   "execution_count": 70,
   "id": "53a52c1f-2a0a-45cb-988c-138ad029742b",
   "metadata": {},
   "outputs": [
    {
     "name": "stderr",
     "output_type": "stream",
     "text": [
      "100%|███████████████████████████████████████████████████████████████████████| 109248/109248 [00:02<00:00, 45879.26it/s]\n"
     ]
    }
   ],
   "source": [
    "lst1=[ ]\n",
    "for i in tqdm(df['cleaned_titles']):\n",
    "    lst1.append(preprocess_text_lemmatize(i))"
   ]
  },
  {
   "cell_type": "code",
   "execution_count": 71,
   "id": "38c961cf-58ac-48b8-a784-557b67a6bb3e",
   "metadata": {},
   "outputs": [],
   "source": [
    "df['cleaned_titles_tokens_lemmatized'] = lst1"
   ]
  },
  {
   "cell_type": "code",
   "execution_count": 72,
   "id": "ad885b5f-176a-4f53-97af-ac28d9af5056",
   "metadata": {},
   "outputs": [
    {
     "data": {
      "text/html": [
       "<div>\n",
       "<style scoped>\n",
       "    .dataframe tbody tr th:only-of-type {\n",
       "        vertical-align: middle;\n",
       "    }\n",
       "\n",
       "    .dataframe tbody tr th {\n",
       "        vertical-align: top;\n",
       "    }\n",
       "\n",
       "    .dataframe thead th {\n",
       "        text-align: right;\n",
       "    }\n",
       "</style>\n",
       "<table border=\"1\" class=\"dataframe\">\n",
       "  <thead>\n",
       "    <tr style=\"text-align: right;\">\n",
       "      <th></th>\n",
       "      <th>cleaned_essays</th>\n",
       "      <th>cleaned_essays_tokens_lemmatized</th>\n",
       "    </tr>\n",
       "  </thead>\n",
       "  <tbody>\n",
       "    <tr>\n",
       "      <th>0</th>\n",
       "      <td>students english learners working english seco...</td>\n",
       "      <td>student english learner working english second...</td>\n",
       "    </tr>\n",
       "    <tr>\n",
       "      <th>1</th>\n",
       "      <td>students arrive school eager learn polite gene...</td>\n",
       "      <td>student arrive school eager learn polite gener...</td>\n",
       "    </tr>\n",
       "    <tr>\n",
       "      <th>2</th>\n",
       "      <td>true champions not always ones win guts mia ha...</td>\n",
       "      <td>true champion always one win gut mia hamm quot...</td>\n",
       "    </tr>\n",
       "    <tr>\n",
       "      <th>3</th>\n",
       "      <td>work unique school filled esl english second l...</td>\n",
       "      <td>work unique school filled esl english second l...</td>\n",
       "    </tr>\n",
       "    <tr>\n",
       "      <th>4</th>\n",
       "      <td>second grade classroom next year made around 2...</td>\n",
       "      <td>second grade classroom next year made around 2...</td>\n",
       "    </tr>\n",
       "    <tr>\n",
       "      <th>5</th>\n",
       "      <td>moving 2nd grade 3rd grade beginning next scho...</td>\n",
       "      <td>moving 2nd grade 3rd grade beginning next scho...</td>\n",
       "    </tr>\n",
       "    <tr>\n",
       "      <th>6</th>\n",
       "      <td>students dynamic energetic group middle school...</td>\n",
       "      <td>student dynamic energetic group middle schoole...</td>\n",
       "    </tr>\n",
       "    <tr>\n",
       "      <th>7</th>\n",
       "      <td>not students struggle poverty also learning ma...</td>\n",
       "      <td>student struggle poverty also learning master ...</td>\n",
       "    </tr>\n",
       "    <tr>\n",
       "      <th>8</th>\n",
       "      <td>students enthusiastic inquisitive learners k 6...</td>\n",
       "      <td>student enthusiastic inquisitive learner k 6 t...</td>\n",
       "    </tr>\n",
       "    <tr>\n",
       "      <th>9</th>\n",
       "      <td>95 students free reduced lunch homeless despit...</td>\n",
       "      <td>95 student free reduced lunch homeless despite...</td>\n",
       "    </tr>\n",
       "  </tbody>\n",
       "</table>\n",
       "</div>"
      ],
      "text/plain": [
       "                                      cleaned_essays  \\\n",
       "0  students english learners working english seco...   \n",
       "1  students arrive school eager learn polite gene...   \n",
       "2  true champions not always ones win guts mia ha...   \n",
       "3  work unique school filled esl english second l...   \n",
       "4  second grade classroom next year made around 2...   \n",
       "5  moving 2nd grade 3rd grade beginning next scho...   \n",
       "6  students dynamic energetic group middle school...   \n",
       "7  not students struggle poverty also learning ma...   \n",
       "8  students enthusiastic inquisitive learners k 6...   \n",
       "9  95 students free reduced lunch homeless despit...   \n",
       "\n",
       "                    cleaned_essays_tokens_lemmatized  \n",
       "0  student english learner working english second...  \n",
       "1  student arrive school eager learn polite gener...  \n",
       "2  true champion always one win gut mia hamm quot...  \n",
       "3  work unique school filled esl english second l...  \n",
       "4  second grade classroom next year made around 2...  \n",
       "5  moving 2nd grade 3rd grade beginning next scho...  \n",
       "6  student dynamic energetic group middle schoole...  \n",
       "7  student struggle poverty also learning master ...  \n",
       "8  student enthusiastic inquisitive learner k 6 t...  \n",
       "9  95 student free reduced lunch homeless despite...  "
      ]
     },
     "execution_count": 72,
     "metadata": {},
     "output_type": "execute_result"
    }
   ],
   "source": [
    "df[['cleaned_essays', 'cleaned_essays_tokens_lemmatized']].head(10)"
   ]
  },
  {
   "cell_type": "code",
   "execution_count": 73,
   "id": "1c9139d2-bcfa-47b5-b7dd-7ded085c4740",
   "metadata": {},
   "outputs": [
    {
     "data": {
      "text/html": [
       "<div>\n",
       "<style scoped>\n",
       "    .dataframe tbody tr th:only-of-type {\n",
       "        vertical-align: middle;\n",
       "    }\n",
       "\n",
       "    .dataframe tbody tr th {\n",
       "        vertical-align: top;\n",
       "    }\n",
       "\n",
       "    .dataframe thead th {\n",
       "        text-align: right;\n",
       "    }\n",
       "</style>\n",
       "<table border=\"1\" class=\"dataframe\">\n",
       "  <thead>\n",
       "    <tr style=\"text-align: right;\">\n",
       "      <th></th>\n",
       "      <th>cleaned_titles</th>\n",
       "      <th>cleaned_titles_tokens_lemmatized</th>\n",
       "    </tr>\n",
       "  </thead>\n",
       "  <tbody>\n",
       "    <tr>\n",
       "      <th>0</th>\n",
       "      <td>educational support english learners home</td>\n",
       "      <td>educational support english learner home</td>\n",
       "    </tr>\n",
       "    <tr>\n",
       "      <th>1</th>\n",
       "      <td>wanted projector hungry learners</td>\n",
       "      <td>wanted projector hungry learner</td>\n",
       "    </tr>\n",
       "    <tr>\n",
       "      <th>2</th>\n",
       "      <td>soccer equipment awesome middle school students</td>\n",
       "      <td>soccer equipment awesome middle school student</td>\n",
       "    </tr>\n",
       "    <tr>\n",
       "      <th>3</th>\n",
       "      <td>techie kindergarteners</td>\n",
       "      <td>techie kindergartener</td>\n",
       "    </tr>\n",
       "    <tr>\n",
       "      <th>4</th>\n",
       "      <td>interactive math tools</td>\n",
       "      <td>interactive math tool</td>\n",
       "    </tr>\n",
       "    <tr>\n",
       "      <th>5</th>\n",
       "      <td>flexible seating mrs jarvis terrific third gra...</td>\n",
       "      <td>flexible seating mr jarvis terrific third grader</td>\n",
       "    </tr>\n",
       "    <tr>\n",
       "      <th>6</th>\n",
       "      <td>chromebooks special education reading program</td>\n",
       "      <td>chromebooks special education reading program</td>\n",
       "    </tr>\n",
       "    <tr>\n",
       "      <th>7</th>\n",
       "      <td>21st century</td>\n",
       "      <td>21st century</td>\n",
       "    </tr>\n",
       "    <tr>\n",
       "      <th>8</th>\n",
       "      <td>targeting success class</td>\n",
       "      <td>targeting success class</td>\n",
       "    </tr>\n",
       "    <tr>\n",
       "      <th>9</th>\n",
       "      <td>love reading pure pleasure</td>\n",
       "      <td>love reading pure pleasure</td>\n",
       "    </tr>\n",
       "  </tbody>\n",
       "</table>\n",
       "</div>"
      ],
      "text/plain": [
       "                                      cleaned_titles  \\\n",
       "0          educational support english learners home   \n",
       "1                   wanted projector hungry learners   \n",
       "2    soccer equipment awesome middle school students   \n",
       "3                             techie kindergarteners   \n",
       "4                             interactive math tools   \n",
       "5  flexible seating mrs jarvis terrific third gra...   \n",
       "6      chromebooks special education reading program   \n",
       "7                                       21st century   \n",
       "8                            targeting success class   \n",
       "9                         love reading pure pleasure   \n",
       "\n",
       "                   cleaned_titles_tokens_lemmatized  \n",
       "0          educational support english learner home  \n",
       "1                   wanted projector hungry learner  \n",
       "2    soccer equipment awesome middle school student  \n",
       "3                             techie kindergartener  \n",
       "4                             interactive math tool  \n",
       "5  flexible seating mr jarvis terrific third grader  \n",
       "6     chromebooks special education reading program  \n",
       "7                                      21st century  \n",
       "8                           targeting success class  \n",
       "9                        love reading pure pleasure  "
      ]
     },
     "execution_count": 73,
     "metadata": {},
     "output_type": "execute_result"
    }
   ],
   "source": [
    "df[['cleaned_titles', 'cleaned_titles_tokens_lemmatized']].head(10)"
   ]
  },
  {
   "cell_type": "code",
   "execution_count": 74,
   "id": "1984294f-405e-4e31-afce-503765b8b5b8",
   "metadata": {},
   "outputs": [],
   "source": [
    "def preprocess_text_lemmatize(text):\n",
    "    # Tokenization\n",
    "    lst=[]\n",
    "    for i in text.split(\"_\"):\n",
    "        i=i.lower() \n",
    "        if i.isalnum() and i not in stop_words:\n",
    "           lst.append(lemmatizer.lemmatize(i)) \n",
    "\n",
    "    return \" \".join(lst)"
   ]
  },
  {
   "cell_type": "code",
   "execution_count": 75,
   "id": "693212b2-b678-4d9b-8dd0-5181f20d552e",
   "metadata": {},
   "outputs": [
    {
     "name": "stderr",
     "output_type": "stream",
     "text": [
      "100%|███████████████████████████████████████████████████████████████████████| 109248/109248 [00:08<00:00, 13468.17it/s]\n"
     ]
    }
   ],
   "source": [
    "lst2=[ ]\n",
    "for i in tqdm(df['cleaned_summary']):\n",
    "    lst2.append(preprocess_text_lemmatize(i))"
   ]
  },
  {
   "cell_type": "code",
   "execution_count": 76,
   "id": "ae087659-fc93-4680-b267-3c389064fa4a",
   "metadata": {},
   "outputs": [],
   "source": [
    "df['cleaned_summary_tokens_lemmatized'] = lst2"
   ]
  },
  {
   "cell_type": "code",
   "execution_count": 77,
   "id": "716943ca-33ce-4434-ab2f-ae43cccf2967",
   "metadata": {},
   "outputs": [
    {
     "data": {
      "text/html": [
       "<div>\n",
       "<style scoped>\n",
       "    .dataframe tbody tr th:only-of-type {\n",
       "        vertical-align: middle;\n",
       "    }\n",
       "\n",
       "    .dataframe tbody tr th {\n",
       "        vertical-align: top;\n",
       "    }\n",
       "\n",
       "    .dataframe thead th {\n",
       "        text-align: right;\n",
       "    }\n",
       "</style>\n",
       "<table border=\"1\" class=\"dataframe\">\n",
       "  <thead>\n",
       "    <tr style=\"text-align: right;\">\n",
       "      <th></th>\n",
       "      <th>cleaned_summary</th>\n",
       "      <th>cleaned_summary_tokens_lemmatized</th>\n",
       "    </tr>\n",
       "  </thead>\n",
       "  <tbody>\n",
       "    <tr>\n",
       "      <th>0</th>\n",
       "      <td>students_need_opportunities_practice_beginning...</td>\n",
       "      <td>student need opportunity practice beginning re...</td>\n",
       "    </tr>\n",
       "    <tr>\n",
       "      <th>1</th>\n",
       "      <td>students_need_projector_help_viewing_education...</td>\n",
       "      <td>student need projector help viewing educationa...</td>\n",
       "    </tr>\n",
       "    <tr>\n",
       "      <th>2</th>\n",
       "      <td>students_need_shine_guards_athletic_socks_socc...</td>\n",
       "      <td>student need shine guard athletic sock soccer ...</td>\n",
       "    </tr>\n",
       "    <tr>\n",
       "      <th>3</th>\n",
       "      <td>students_need_engage_reading_math_way_inspire_...</td>\n",
       "      <td>student need engage reading math way inspire m...</td>\n",
       "    </tr>\n",
       "    <tr>\n",
       "      <th>4</th>\n",
       "      <td>students_need_hands_practice_mathematics_fun_p...</td>\n",
       "      <td>student need hand practice mathematics fun per...</td>\n",
       "    </tr>\n",
       "    <tr>\n",
       "      <th>5</th>\n",
       "      <td>students_need_movement_successful_variety_stud...</td>\n",
       "      <td>student need movement successful variety stude...</td>\n",
       "    </tr>\n",
       "    <tr>\n",
       "      <th>6</th>\n",
       "      <td>students_need_dependable_laptops_daily_classro...</td>\n",
       "      <td>student need dependable laptop daily classroom...</td>\n",
       "    </tr>\n",
       "    <tr>\n",
       "      <th>7</th>\n",
       "      <td>students_need_ipads_help_access_world_online_r...</td>\n",
       "      <td>student need ipads help access world online re...</td>\n",
       "    </tr>\n",
       "    <tr>\n",
       "      <th>8</th>\n",
       "      <td>students_need_three_devices_three_management_l...</td>\n",
       "      <td>student need three device three management lic...</td>\n",
       "    </tr>\n",
       "    <tr>\n",
       "      <th>9</th>\n",
       "      <td>students_need_great_books_use_independent_read...</td>\n",
       "      <td>student need great book use independent readin...</td>\n",
       "    </tr>\n",
       "  </tbody>\n",
       "</table>\n",
       "</div>"
      ],
      "text/plain": [
       "                                     cleaned_summary  \\\n",
       "0  students_need_opportunities_practice_beginning...   \n",
       "1  students_need_projector_help_viewing_education...   \n",
       "2  students_need_shine_guards_athletic_socks_socc...   \n",
       "3  students_need_engage_reading_math_way_inspire_...   \n",
       "4  students_need_hands_practice_mathematics_fun_p...   \n",
       "5  students_need_movement_successful_variety_stud...   \n",
       "6  students_need_dependable_laptops_daily_classro...   \n",
       "7  students_need_ipads_help_access_world_online_r...   \n",
       "8  students_need_three_devices_three_management_l...   \n",
       "9  students_need_great_books_use_independent_read...   \n",
       "\n",
       "                   cleaned_summary_tokens_lemmatized  \n",
       "0  student need opportunity practice beginning re...  \n",
       "1  student need projector help viewing educationa...  \n",
       "2  student need shine guard athletic sock soccer ...  \n",
       "3  student need engage reading math way inspire m...  \n",
       "4  student need hand practice mathematics fun per...  \n",
       "5  student need movement successful variety stude...  \n",
       "6  student need dependable laptop daily classroom...  \n",
       "7  student need ipads help access world online re...  \n",
       "8  student need three device three management lic...  \n",
       "9  student need great book use independent readin...  "
      ]
     },
     "execution_count": 77,
     "metadata": {},
     "output_type": "execute_result"
    }
   ],
   "source": [
    "df[['cleaned_summary', 'cleaned_summary_tokens_lemmatized']].head(10)"
   ]
  },
  {
   "cell_type": "code",
   "execution_count": 78,
   "id": "1b2eed4e-8cf1-42d0-8d97-f31a5b579e6b",
   "metadata": {},
   "outputs": [
    {
     "data": {
      "text/html": [
       "<div>\n",
       "<style scoped>\n",
       "    .dataframe tbody tr th:only-of-type {\n",
       "        vertical-align: middle;\n",
       "    }\n",
       "\n",
       "    .dataframe tbody tr th {\n",
       "        vertical-align: top;\n",
       "    }\n",
       "\n",
       "    .dataframe thead th {\n",
       "        text-align: right;\n",
       "    }\n",
       "</style>\n",
       "<table border=\"1\" class=\"dataframe\">\n",
       "  <thead>\n",
       "    <tr style=\"text-align: right;\">\n",
       "      <th></th>\n",
       "      <th>id</th>\n",
       "      <th>teacher_prefix</th>\n",
       "      <th>school_state</th>\n",
       "      <th>project_grade_category</th>\n",
       "      <th>project_subject_categories</th>\n",
       "      <th>project_subject_subcategories</th>\n",
       "      <th>teacher_number_of_previously_posted_projects</th>\n",
       "      <th>project_is_approved</th>\n",
       "      <th>price</th>\n",
       "      <th>quantity</th>\n",
       "      <th>cleaned_titles</th>\n",
       "      <th>cleaned_essays</th>\n",
       "      <th>cleaned_summary</th>\n",
       "      <th>isdigit_summary</th>\n",
       "      <th>cleaned_essays_tokens_lemmatized</th>\n",
       "      <th>cleaned_titles_tokens_lemmatized</th>\n",
       "      <th>cleaned_summary_tokens_lemmatized</th>\n",
       "    </tr>\n",
       "  </thead>\n",
       "  <tbody>\n",
       "    <tr>\n",
       "      <th>0</th>\n",
       "      <td>p253737</td>\n",
       "      <td>mrs</td>\n",
       "      <td>in</td>\n",
       "      <td>grades_prek_2</td>\n",
       "      <td>literacy_language</td>\n",
       "      <td>esl_literacy</td>\n",
       "      <td>0</td>\n",
       "      <td>0</td>\n",
       "      <td>154.60</td>\n",
       "      <td>23</td>\n",
       "      <td>educational support english learners home</td>\n",
       "      <td>students english learners working english seco...</td>\n",
       "      <td>students_need_opportunities_practice_beginning...</td>\n",
       "      <td>0</td>\n",
       "      <td>student english learner working english second...</td>\n",
       "      <td>educational support english learner home</td>\n",
       "      <td>student need opportunity practice beginning re...</td>\n",
       "    </tr>\n",
       "    <tr>\n",
       "      <th>1</th>\n",
       "      <td>p258326</td>\n",
       "      <td>mr</td>\n",
       "      <td>fl</td>\n",
       "      <td>grades_6_8</td>\n",
       "      <td>history_civics_health_sports</td>\n",
       "      <td>civics_government_teamsports</td>\n",
       "      <td>7</td>\n",
       "      <td>1</td>\n",
       "      <td>299.00</td>\n",
       "      <td>1</td>\n",
       "      <td>wanted projector hungry learners</td>\n",
       "      <td>students arrive school eager learn polite gene...</td>\n",
       "      <td>students_need_projector_help_viewing_education...</td>\n",
       "      <td>0</td>\n",
       "      <td>student arrive school eager learn polite gener...</td>\n",
       "      <td>wanted projector hungry learner</td>\n",
       "      <td>student need projector help viewing educationa...</td>\n",
       "    </tr>\n",
       "    <tr>\n",
       "      <th>2</th>\n",
       "      <td>p182444</td>\n",
       "      <td>ms</td>\n",
       "      <td>az</td>\n",
       "      <td>grades_6_8</td>\n",
       "      <td>health_sports</td>\n",
       "      <td>health_wellness_teamsports</td>\n",
       "      <td>1</td>\n",
       "      <td>0</td>\n",
       "      <td>516.85</td>\n",
       "      <td>22</td>\n",
       "      <td>soccer equipment awesome middle school students</td>\n",
       "      <td>true champions not always ones win guts mia ha...</td>\n",
       "      <td>students_need_shine_guards_athletic_socks_socc...</td>\n",
       "      <td>0</td>\n",
       "      <td>true champion always one win gut mia hamm quot...</td>\n",
       "      <td>soccer equipment awesome middle school student</td>\n",
       "      <td>student need shine guard athletic sock soccer ...</td>\n",
       "    </tr>\n",
       "    <tr>\n",
       "      <th>3</th>\n",
       "      <td>p246581</td>\n",
       "      <td>mrs</td>\n",
       "      <td>ky</td>\n",
       "      <td>grades_prek_2</td>\n",
       "      <td>literacy_language_math_science</td>\n",
       "      <td>literacy_mathematics</td>\n",
       "      <td>4</td>\n",
       "      <td>1</td>\n",
       "      <td>232.90</td>\n",
       "      <td>4</td>\n",
       "      <td>techie kindergarteners</td>\n",
       "      <td>work unique school filled esl english second l...</td>\n",
       "      <td>students_need_engage_reading_math_way_inspire_...</td>\n",
       "      <td>0</td>\n",
       "      <td>work unique school filled esl english second l...</td>\n",
       "      <td>techie kindergartener</td>\n",
       "      <td>student need engage reading math way inspire m...</td>\n",
       "    </tr>\n",
       "    <tr>\n",
       "      <th>4</th>\n",
       "      <td>p104768</td>\n",
       "      <td>mrs</td>\n",
       "      <td>tx</td>\n",
       "      <td>grades_prek_2</td>\n",
       "      <td>math_science</td>\n",
       "      <td>mathematics</td>\n",
       "      <td>1</td>\n",
       "      <td>1</td>\n",
       "      <td>67.98</td>\n",
       "      <td>4</td>\n",
       "      <td>interactive math tools</td>\n",
       "      <td>second grade classroom next year made around 2...</td>\n",
       "      <td>students_need_hands_practice_mathematics_fun_p...</td>\n",
       "      <td>0</td>\n",
       "      <td>second grade classroom next year made around 2...</td>\n",
       "      <td>interactive math tool</td>\n",
       "      <td>student need hand practice mathematics fun per...</td>\n",
       "    </tr>\n",
       "  </tbody>\n",
       "</table>\n",
       "</div>"
      ],
      "text/plain": [
       "        id teacher_prefix school_state project_grade_category  \\\n",
       "0  p253737            mrs           in          grades_prek_2   \n",
       "1  p258326             mr           fl             grades_6_8   \n",
       "2  p182444             ms           az             grades_6_8   \n",
       "3  p246581            mrs           ky          grades_prek_2   \n",
       "4  p104768            mrs           tx          grades_prek_2   \n",
       "\n",
       "       project_subject_categories project_subject_subcategories  \\\n",
       "0               literacy_language                  esl_literacy   \n",
       "1    history_civics_health_sports  civics_government_teamsports   \n",
       "2                   health_sports    health_wellness_teamsports   \n",
       "3  literacy_language_math_science          literacy_mathematics   \n",
       "4                    math_science                   mathematics   \n",
       "\n",
       "   teacher_number_of_previously_posted_projects  project_is_approved   price  \\\n",
       "0                                             0                    0  154.60   \n",
       "1                                             7                    1  299.00   \n",
       "2                                             1                    0  516.85   \n",
       "3                                             4                    1  232.90   \n",
       "4                                             1                    1   67.98   \n",
       "\n",
       "   quantity                                   cleaned_titles  \\\n",
       "0        23        educational support english learners home   \n",
       "1         1                 wanted projector hungry learners   \n",
       "2        22  soccer equipment awesome middle school students   \n",
       "3         4                           techie kindergarteners   \n",
       "4         4                           interactive math tools   \n",
       "\n",
       "                                      cleaned_essays  \\\n",
       "0  students english learners working english seco...   \n",
       "1  students arrive school eager learn polite gene...   \n",
       "2  true champions not always ones win guts mia ha...   \n",
       "3  work unique school filled esl english second l...   \n",
       "4  second grade classroom next year made around 2...   \n",
       "\n",
       "                                     cleaned_summary  isdigit_summary  \\\n",
       "0  students_need_opportunities_practice_beginning...                0   \n",
       "1  students_need_projector_help_viewing_education...                0   \n",
       "2  students_need_shine_guards_athletic_socks_socc...                0   \n",
       "3  students_need_engage_reading_math_way_inspire_...                0   \n",
       "4  students_need_hands_practice_mathematics_fun_p...                0   \n",
       "\n",
       "                    cleaned_essays_tokens_lemmatized  \\\n",
       "0  student english learner working english second...   \n",
       "1  student arrive school eager learn polite gener...   \n",
       "2  true champion always one win gut mia hamm quot...   \n",
       "3  work unique school filled esl english second l...   \n",
       "4  second grade classroom next year made around 2...   \n",
       "\n",
       "                 cleaned_titles_tokens_lemmatized  \\\n",
       "0        educational support english learner home   \n",
       "1                 wanted projector hungry learner   \n",
       "2  soccer equipment awesome middle school student   \n",
       "3                           techie kindergartener   \n",
       "4                           interactive math tool   \n",
       "\n",
       "                   cleaned_summary_tokens_lemmatized  \n",
       "0  student need opportunity practice beginning re...  \n",
       "1  student need projector help viewing educationa...  \n",
       "2  student need shine guard athletic sock soccer ...  \n",
       "3  student need engage reading math way inspire m...  \n",
       "4  student need hand practice mathematics fun per...  "
      ]
     },
     "execution_count": 78,
     "metadata": {},
     "output_type": "execute_result"
    }
   ],
   "source": [
    "df.head()"
   ]
  },
  {
   "cell_type": "code",
   "execution_count": 79,
   "id": "24b27807-91fe-423e-a61a-198f4c816bb1",
   "metadata": {},
   "outputs": [],
   "source": [
    "df['text']=df['cleaned_titles'] + \" \" + df['cleaned_summary']+\" \"+df['cleaned_essays']"
   ]
  },
  {
   "cell_type": "code",
   "execution_count": 80,
   "id": "c99b1d1a-d677-4c97-9fc8-42ccda0d81e4",
   "metadata": {},
   "outputs": [],
   "source": [
    "# List of columns to drop\n",
    "columns_to_drop = [\n",
    "    'cleaned_essays_tokens_lemmatized',\n",
    "    'cleaned_summary_tokens_lemmatized',\n",
    "    'cleaned_titles_tokens_lemmatized',\n",
    "    'isdigit_summary',\n",
    "    'cleaned_titles',\n",
    "    'cleaned_summary',\n",
    "    'cleaned_essays'\n",
    "]\n",
    "\n",
    "# Drop columns from the DataFrame\n",
    "df.drop(columns=columns_to_drop, axis=1, inplace=True)"
   ]
  },
  {
   "cell_type": "code",
   "execution_count": 81,
   "id": "3572a652-3996-454c-99fc-328a16b28a03",
   "metadata": {},
   "outputs": [
    {
     "data": {
      "text/html": [
       "<div>\n",
       "<style scoped>\n",
       "    .dataframe tbody tr th:only-of-type {\n",
       "        vertical-align: middle;\n",
       "    }\n",
       "\n",
       "    .dataframe tbody tr th {\n",
       "        vertical-align: top;\n",
       "    }\n",
       "\n",
       "    .dataframe thead th {\n",
       "        text-align: right;\n",
       "    }\n",
       "</style>\n",
       "<table border=\"1\" class=\"dataframe\">\n",
       "  <thead>\n",
       "    <tr style=\"text-align: right;\">\n",
       "      <th></th>\n",
       "      <th>id</th>\n",
       "      <th>teacher_prefix</th>\n",
       "      <th>school_state</th>\n",
       "      <th>project_grade_category</th>\n",
       "      <th>project_subject_categories</th>\n",
       "      <th>project_subject_subcategories</th>\n",
       "      <th>teacher_number_of_previously_posted_projects</th>\n",
       "      <th>project_is_approved</th>\n",
       "      <th>price</th>\n",
       "      <th>quantity</th>\n",
       "      <th>text</th>\n",
       "    </tr>\n",
       "  </thead>\n",
       "  <tbody>\n",
       "    <tr>\n",
       "      <th>0</th>\n",
       "      <td>p253737</td>\n",
       "      <td>mrs</td>\n",
       "      <td>in</td>\n",
       "      <td>grades_prek_2</td>\n",
       "      <td>literacy_language</td>\n",
       "      <td>esl_literacy</td>\n",
       "      <td>0</td>\n",
       "      <td>0</td>\n",
       "      <td>154.60</td>\n",
       "      <td>23</td>\n",
       "      <td>educational support english learners home stud...</td>\n",
       "    </tr>\n",
       "    <tr>\n",
       "      <th>1</th>\n",
       "      <td>p258326</td>\n",
       "      <td>mr</td>\n",
       "      <td>fl</td>\n",
       "      <td>grades_6_8</td>\n",
       "      <td>history_civics_health_sports</td>\n",
       "      <td>civics_government_teamsports</td>\n",
       "      <td>7</td>\n",
       "      <td>1</td>\n",
       "      <td>299.00</td>\n",
       "      <td>1</td>\n",
       "      <td>wanted projector hungry learners students_need...</td>\n",
       "    </tr>\n",
       "    <tr>\n",
       "      <th>2</th>\n",
       "      <td>p182444</td>\n",
       "      <td>ms</td>\n",
       "      <td>az</td>\n",
       "      <td>grades_6_8</td>\n",
       "      <td>health_sports</td>\n",
       "      <td>health_wellness_teamsports</td>\n",
       "      <td>1</td>\n",
       "      <td>0</td>\n",
       "      <td>516.85</td>\n",
       "      <td>22</td>\n",
       "      <td>soccer equipment awesome middle school student...</td>\n",
       "    </tr>\n",
       "    <tr>\n",
       "      <th>3</th>\n",
       "      <td>p246581</td>\n",
       "      <td>mrs</td>\n",
       "      <td>ky</td>\n",
       "      <td>grades_prek_2</td>\n",
       "      <td>literacy_language_math_science</td>\n",
       "      <td>literacy_mathematics</td>\n",
       "      <td>4</td>\n",
       "      <td>1</td>\n",
       "      <td>232.90</td>\n",
       "      <td>4</td>\n",
       "      <td>techie kindergarteners students_need_engage_re...</td>\n",
       "    </tr>\n",
       "    <tr>\n",
       "      <th>4</th>\n",
       "      <td>p104768</td>\n",
       "      <td>mrs</td>\n",
       "      <td>tx</td>\n",
       "      <td>grades_prek_2</td>\n",
       "      <td>math_science</td>\n",
       "      <td>mathematics</td>\n",
       "      <td>1</td>\n",
       "      <td>1</td>\n",
       "      <td>67.98</td>\n",
       "      <td>4</td>\n",
       "      <td>interactive math tools students_need_hands_pra...</td>\n",
       "    </tr>\n",
       "  </tbody>\n",
       "</table>\n",
       "</div>"
      ],
      "text/plain": [
       "        id teacher_prefix school_state project_grade_category  \\\n",
       "0  p253737            mrs           in          grades_prek_2   \n",
       "1  p258326             mr           fl             grades_6_8   \n",
       "2  p182444             ms           az             grades_6_8   \n",
       "3  p246581            mrs           ky          grades_prek_2   \n",
       "4  p104768            mrs           tx          grades_prek_2   \n",
       "\n",
       "       project_subject_categories project_subject_subcategories  \\\n",
       "0               literacy_language                  esl_literacy   \n",
       "1    history_civics_health_sports  civics_government_teamsports   \n",
       "2                   health_sports    health_wellness_teamsports   \n",
       "3  literacy_language_math_science          literacy_mathematics   \n",
       "4                    math_science                   mathematics   \n",
       "\n",
       "   teacher_number_of_previously_posted_projects  project_is_approved   price  \\\n",
       "0                                             0                    0  154.60   \n",
       "1                                             7                    1  299.00   \n",
       "2                                             1                    0  516.85   \n",
       "3                                             4                    1  232.90   \n",
       "4                                             1                    1   67.98   \n",
       "\n",
       "   quantity                                               text  \n",
       "0        23  educational support english learners home stud...  \n",
       "1         1  wanted projector hungry learners students_need...  \n",
       "2        22  soccer equipment awesome middle school student...  \n",
       "3         4  techie kindergarteners students_need_engage_re...  \n",
       "4         4  interactive math tools students_need_hands_pra...  "
      ]
     },
     "execution_count": 81,
     "metadata": {},
     "output_type": "execute_result"
    }
   ],
   "source": [
    "df.head()"
   ]
  },
  {
   "cell_type": "markdown",
   "id": "1ecc47a3-d929-495a-bbd2-9c14ff67c1ec",
   "metadata": {},
   "source": [
    "# Handling Outliers\n",
    "\n",
    "* by Filtering: This is a common method for handling outliers when you believe that values above a certain threshold are not representative or are likely errors.\n",
    "\n",
    "Since, we have sufficient size of the dataset this method can be useful as there is less chance of significant data loss. "
   ]
  },
  {
   "cell_type": "code",
   "execution_count": 83,
   "id": "4269654e-87bb-4be8-b7c4-7e1ddb2b31f3",
   "metadata": {},
   "outputs": [
    {
     "name": "stdout",
     "output_type": "stream",
     "text": [
      "Number of outliers in teacher_number_of_previously_posted_projects: 1073\n"
     ]
    }
   ],
   "source": [
    "outliers_teacher = df[df['teacher_number_of_previously_posted_projects'] > 139]\n",
    "print(\"Number of outliers in teacher_number_of_previously_posted_projects:\", len(outliers_teacher))"
   ]
  },
  {
   "cell_type": "code",
   "execution_count": 84,
   "id": "b66b7220-cd1e-4b8f-a5dd-e507342005a0",
   "metadata": {},
   "outputs": [
    {
     "name": "stdout",
     "output_type": "stream",
     "text": [
      "Number of outliers in quantity: 1085\n"
     ]
    }
   ],
   "source": [
    "outliers_quantity = df[df['quantity'] > 120]\n",
    "print(\"Number of outliers in quantity:\", len(outliers_quantity))"
   ]
  },
  {
   "cell_type": "code",
   "execution_count": 85,
   "id": "7494f4fc-dde0-4a1c-9f92-c65545a5e09d",
   "metadata": {},
   "outputs": [
    {
     "name": "stdout",
     "output_type": "stream",
     "text": [
      "Number of outliers in price: 1093\n"
     ]
    }
   ],
   "source": [
    "outliers_price = df[df['price'] > 1583.45]\n",
    "print(\"Number of outliers in price:\", len(outliers_price))"
   ]
  },
  {
   "cell_type": "code",
   "execution_count": 86,
   "id": "e98ac559-d013-49ff-b7ce-b00470e1c8fc",
   "metadata": {},
   "outputs": [],
   "source": [
    "df = df[df['quantity'] <= 120]"
   ]
  },
  {
   "cell_type": "code",
   "execution_count": 87,
   "id": "018549ed-2b4b-4767-b09d-5c37a6a18223",
   "metadata": {},
   "outputs": [],
   "source": [
    "df = df[df['teacher_number_of_previously_posted_projects'] <= 139]"
   ]
  },
  {
   "cell_type": "code",
   "execution_count": 88,
   "id": "b956cff0-9c68-4f75-bd5a-c5f705ad0b19",
   "metadata": {},
   "outputs": [],
   "source": [
    "df = df[df['price'] <= 1583.45]"
   ]
  },
  {
   "cell_type": "code",
   "execution_count": 89,
   "id": "f630052b-8651-4bd6-9e26-216a852eafdc",
   "metadata": {},
   "outputs": [
    {
     "data": {
      "text/plain": [
       "(106027, 11)"
      ]
     },
     "execution_count": 89,
     "metadata": {},
     "output_type": "execute_result"
    }
   ],
   "source": [
    "df.shape"
   ]
  },
  {
   "cell_type": "code",
   "execution_count": 90,
   "id": "9cc87c02-acc2-4e40-bbc7-b3b2dcefa81a",
   "metadata": {},
   "outputs": [
    {
     "data": {
      "text/plain": [
       "project_is_approved\n",
       "1    89967\n",
       "0    16060\n",
       "Name: count, dtype: int64"
      ]
     },
     "execution_count": 90,
     "metadata": {},
     "output_type": "execute_result"
    }
   ],
   "source": [
    "df['project_is_approved'].value_counts()"
   ]
  },
  {
   "cell_type": "markdown",
   "id": "003f3466-90ff-48bf-a518-14dcc9010285",
   "metadata": {},
   "source": [
    "# Splitting Of Dataset "
   ]
  },
  {
   "cell_type": "code",
   "execution_count": 92,
   "id": "d69da466-7b9d-4526-8f92-e8c28ab744e9",
   "metadata": {},
   "outputs": [],
   "source": [
    "X = df.drop(['project_is_approved','id'], axis = 1) # independent varirables\n",
    "y = df['project_is_approved'] # dependent variable"
   ]
  },
  {
   "cell_type": "code",
   "execution_count": 93,
   "id": "45eddf13-f2d7-4bc1-b703-a667a21e7e80",
   "metadata": {},
   "outputs": [
    {
     "data": {
      "text/plain": [
       "(106027, 9)"
      ]
     },
     "execution_count": 93,
     "metadata": {},
     "output_type": "execute_result"
    }
   ],
   "source": [
    "X.shape"
   ]
  },
  {
   "cell_type": "code",
   "execution_count": 94,
   "id": "b60682cc-6030-40da-a326-e4280e3f589f",
   "metadata": {},
   "outputs": [
    {
     "data": {
      "text/html": [
       "<div>\n",
       "<style scoped>\n",
       "    .dataframe tbody tr th:only-of-type {\n",
       "        vertical-align: middle;\n",
       "    }\n",
       "\n",
       "    .dataframe tbody tr th {\n",
       "        vertical-align: top;\n",
       "    }\n",
       "\n",
       "    .dataframe thead th {\n",
       "        text-align: right;\n",
       "    }\n",
       "</style>\n",
       "<table border=\"1\" class=\"dataframe\">\n",
       "  <thead>\n",
       "    <tr style=\"text-align: right;\">\n",
       "      <th></th>\n",
       "      <th>teacher_prefix</th>\n",
       "      <th>school_state</th>\n",
       "      <th>project_grade_category</th>\n",
       "      <th>project_subject_categories</th>\n",
       "      <th>project_subject_subcategories</th>\n",
       "      <th>teacher_number_of_previously_posted_projects</th>\n",
       "      <th>price</th>\n",
       "      <th>quantity</th>\n",
       "      <th>text</th>\n",
       "    </tr>\n",
       "  </thead>\n",
       "  <tbody>\n",
       "    <tr>\n",
       "      <th>0</th>\n",
       "      <td>mrs</td>\n",
       "      <td>in</td>\n",
       "      <td>grades_prek_2</td>\n",
       "      <td>literacy_language</td>\n",
       "      <td>esl_literacy</td>\n",
       "      <td>0</td>\n",
       "      <td>154.60</td>\n",
       "      <td>23</td>\n",
       "      <td>educational support english learners home stud...</td>\n",
       "    </tr>\n",
       "    <tr>\n",
       "      <th>1</th>\n",
       "      <td>mr</td>\n",
       "      <td>fl</td>\n",
       "      <td>grades_6_8</td>\n",
       "      <td>history_civics_health_sports</td>\n",
       "      <td>civics_government_teamsports</td>\n",
       "      <td>7</td>\n",
       "      <td>299.00</td>\n",
       "      <td>1</td>\n",
       "      <td>wanted projector hungry learners students_need...</td>\n",
       "    </tr>\n",
       "    <tr>\n",
       "      <th>2</th>\n",
       "      <td>ms</td>\n",
       "      <td>az</td>\n",
       "      <td>grades_6_8</td>\n",
       "      <td>health_sports</td>\n",
       "      <td>health_wellness_teamsports</td>\n",
       "      <td>1</td>\n",
       "      <td>516.85</td>\n",
       "      <td>22</td>\n",
       "      <td>soccer equipment awesome middle school student...</td>\n",
       "    </tr>\n",
       "    <tr>\n",
       "      <th>3</th>\n",
       "      <td>mrs</td>\n",
       "      <td>ky</td>\n",
       "      <td>grades_prek_2</td>\n",
       "      <td>literacy_language_math_science</td>\n",
       "      <td>literacy_mathematics</td>\n",
       "      <td>4</td>\n",
       "      <td>232.90</td>\n",
       "      <td>4</td>\n",
       "      <td>techie kindergarteners students_need_engage_re...</td>\n",
       "    </tr>\n",
       "    <tr>\n",
       "      <th>4</th>\n",
       "      <td>mrs</td>\n",
       "      <td>tx</td>\n",
       "      <td>grades_prek_2</td>\n",
       "      <td>math_science</td>\n",
       "      <td>mathematics</td>\n",
       "      <td>1</td>\n",
       "      <td>67.98</td>\n",
       "      <td>4</td>\n",
       "      <td>interactive math tools students_need_hands_pra...</td>\n",
       "    </tr>\n",
       "  </tbody>\n",
       "</table>\n",
       "</div>"
      ],
      "text/plain": [
       "  teacher_prefix school_state project_grade_category  \\\n",
       "0            mrs           in          grades_prek_2   \n",
       "1             mr           fl             grades_6_8   \n",
       "2             ms           az             grades_6_8   \n",
       "3            mrs           ky          grades_prek_2   \n",
       "4            mrs           tx          grades_prek_2   \n",
       "\n",
       "       project_subject_categories project_subject_subcategories  \\\n",
       "0               literacy_language                  esl_literacy   \n",
       "1    history_civics_health_sports  civics_government_teamsports   \n",
       "2                   health_sports    health_wellness_teamsports   \n",
       "3  literacy_language_math_science          literacy_mathematics   \n",
       "4                    math_science                   mathematics   \n",
       "\n",
       "   teacher_number_of_previously_posted_projects   price  quantity  \\\n",
       "0                                             0  154.60        23   \n",
       "1                                             7  299.00         1   \n",
       "2                                             1  516.85        22   \n",
       "3                                             4  232.90         4   \n",
       "4                                             1   67.98         4   \n",
       "\n",
       "                                                text  \n",
       "0  educational support english learners home stud...  \n",
       "1  wanted projector hungry learners students_need...  \n",
       "2  soccer equipment awesome middle school student...  \n",
       "3  techie kindergarteners students_need_engage_re...  \n",
       "4  interactive math tools students_need_hands_pra...  "
      ]
     },
     "execution_count": 94,
     "metadata": {},
     "output_type": "execute_result"
    }
   ],
   "source": [
    "X.head()"
   ]
  },
  {
   "cell_type": "code",
   "execution_count": 95,
   "id": "3b9e1400-c7cf-4580-9a70-bd8ee2fc1e92",
   "metadata": {},
   "outputs": [
    {
     "data": {
      "text/plain": [
       "(106027,)"
      ]
     },
     "execution_count": 95,
     "metadata": {},
     "output_type": "execute_result"
    }
   ],
   "source": [
    "y.shape"
   ]
  },
  {
   "cell_type": "code",
   "execution_count": 96,
   "id": "eb52c281-8a6d-4f94-ae43-435a4c79bf66",
   "metadata": {},
   "outputs": [],
   "source": [
    "# Split the dataset into training and testing sets\n",
    "X_train, X_test, y_train, y_test = train_test_split(\n",
    "    X, y, \n",
    "    test_size=0.2,  \n",
    "    random_state=42,  \n",
    "    stratify=y \n",
    ")"
   ]
  },
  {
   "cell_type": "code",
   "execution_count": 97,
   "id": "090eb328-bf33-41fa-b0f6-fadda166272f",
   "metadata": {},
   "outputs": [
    {
     "name": "stdout",
     "output_type": "stream",
     "text": [
      "Original train data shape (84821, 9)\n",
      "Original test data shape (21206, 9)\n"
     ]
    }
   ],
   "source": [
    "print('Original train data shape',X_train.shape)\n",
    "print('Original test data shape',X_test.shape)"
   ]
  },
  {
   "cell_type": "markdown",
   "id": "6b6dbde5-292f-47a5-8b68-8b990bc66a4f",
   "metadata": {},
   "source": [
    "# TF-IDF For Textual Data\n",
    "\n",
    "In this section, we apply the TF-IDF (Term Frequency-Inverse Document Frequency) transformation to the text data. This process converts the textual data into numerical features that can be used by machine learning models.\n",
    "\n",
    "Term Frequency (TF): Measures how frequently a term appears in a document.\n",
    "Formula:\n",
    "𝑇𝐹(𝑡,𝑑)=(Number of times term 𝑡 appears in document 𝑑)/(Total number of terms in document 𝑑)\n",
    "\n",
    "Example: If the word \"data\" appears 3 times in a document with 100 words, TF(data, doc) = 3/100 = 0.03.\n",
    "\n",
    "Inverse Document Frequency (IDF): Measures how important a term is across all documents.\n",
    "Formula:\n",
    "𝐼𝐷𝐹(𝑡,𝐷)=log(Total number of documents 𝑁/Number of documents containing term 𝑡)\n",
    "\n",
    "Example: If the word \"data\" appears in 5 out of 1000 documents, IDF(data) = log(1000/5) ≈ 2.3.\n",
    "\n",
    "TF-IDF: The product of TF and IDF gives the TF-IDF score for a term in a document.\n",
    "Formula:\n",
    "𝑇𝐹-𝐼𝐷𝐹(𝑡,𝑑,𝐷)=𝑇𝐹(𝑡,𝑑)×𝐼𝐷𝐹(𝑡,𝐷)\n",
    "\n",
    "Example: Using the previous values, TF-IDF(data, doc) = 0.03 * 2.3 ≈ 0.069."
   ]
  },
  {
   "cell_type": "code",
   "execution_count": 99,
   "id": "f1c8c891-8254-4c58-85b8-ca4eeb18fed5",
   "metadata": {},
   "outputs": [
    {
     "name": "stdout",
     "output_type": "stream",
     "text": [
      "TF-IDF Titles Train shape: (84821, 20416)\n",
      "TF-IDF Titles Test shape: (21206, 20416)\n"
     ]
    }
   ],
   "source": [
    "tfidf_vectorizer = TfidfVectorizer(min_df=5 ,max_features=50000)\n",
    "tfidf_text_train = tfidf_vectorizer.fit_transform(X_train['text'])\n",
    "tfidf_text_test = tfidf_vectorizer.transform(X_test['text'])\n",
    "\n",
    "print('TF-IDF Titles Train shape:', tfidf_text_train.shape)\n",
    "print('TF-IDF Titles Test shape:', tfidf_text_test.shape)"
   ]
  },
  {
   "cell_type": "code",
   "execution_count": 129,
   "id": "22b6fecf-39d9-43ec-867c-4500b98a3869",
   "metadata": {},
   "outputs": [
    {
     "name": "stdout",
     "output_type": "stream",
     "text": [
      "  (0, 20229)\t0.04151420140797907\n",
      "  (0, 6334)\t0.053866239318803175\n",
      "  (0, 13389)\t0.09229245395436585\n",
      "  (0, 14628)\t0.059030455049535226\n",
      "  (0, 15018)\t0.10264197565313872\n",
      "  (0, 6593)\t0.04837164117129428\n",
      "  (0, 6269)\t0.09172607511577786\n",
      "  (0, 6433)\t0.046370658960977106\n",
      "  (0, 4435)\t0.0981430229180117\n",
      "  (0, 11042)\t0.03440665625537908\n",
      "  (0, 12614)\t0.08219776900428172\n",
      "  (0, 1180)\t0.06080126237263298\n",
      "  (0, 17566)\t0.13523007563653874\n",
      "  (0, 18274)\t0.12249718562596332\n",
      "  (0, 19982)\t0.16859672505765258\n",
      "  (0, 17483)\t0.10015484542727057\n",
      "  (0, 3748)\t0.062120505965657845\n",
      "  (0, 7357)\t0.13033188522738118\n",
      "  (0, 18430)\t0.12205519731562123\n",
      "  (0, 9550)\t0.06995489445006393\n",
      "  (0, 17784)\t0.06928663113586898\n",
      "  (0, 3146)\t0.1260354894946952\n",
      "  (0, 1772)\t0.18316132854514738\n",
      "  (0, 1925)\t0.1806209453130236\n",
      "  (0, 4267)\t0.09793497234973253\n",
      "  :\t:\n",
      "  (0, 10860)\t0.06422167644358966\n",
      "  (0, 422)\t0.06792282684775398\n",
      "  (0, 466)\t0.05238674049540669\n",
      "  (0, 14558)\t0.06440705314977971\n",
      "  (0, 20024)\t0.0667603672547921\n",
      "  (0, 16508)\t0.07948325009948164\n",
      "  (0, 8788)\t0.04373704759251259\n",
      "  (0, 1747)\t0.04959759026743037\n",
      "  (0, 5986)\t0.06638806931502418\n",
      "  (0, 16744)\t0.08257505184101716\n",
      "  (0, 10621)\t0.059026214814354896\n",
      "  (0, 19474)\t0.17555510937468763\n",
      "  (0, 3736)\t0.030806424935394094\n",
      "  (0, 17537)\t0.1616219535972325\n",
      "  (0, 7968)\t0.08360517313335768\n",
      "  (0, 11)\t0.07964426841925108\n",
      "  (0, 2444)\t0.08442321819722104\n",
      "  (0, 46)\t0.10741462041349009\n",
      "  (0, 10986)\t0.13174670580757686\n",
      "  (0, 8135)\t0.049758196789386304\n",
      "  (0, 16026)\t0.11464249456269528\n",
      "  (0, 177)\t0.10430916635731427\n",
      "  (0, 3472)\t0.033358773115622145\n",
      "  (0, 14624)\t0.26224979372583845\n",
      "  (0, 15581)\t0.05497105061913828\n"
     ]
    }
   ],
   "source": [
    "print(tfidf_text_train[0])"
   ]
  },
  {
   "cell_type": "code",
   "execution_count": 131,
   "id": "5363f4f0-b995-4c30-9cc9-8621dfa74bd2",
   "metadata": {},
   "outputs": [
    {
     "data": {
      "text/plain": [
       "21"
      ]
     },
     "execution_count": 131,
     "metadata": {},
     "output_type": "execute_result"
    }
   ],
   "source": [
    "len(tfidf_vectorizer.get_params())"
   ]
  },
  {
   "cell_type": "code",
   "execution_count": 133,
   "id": "244e6fbe-4fe5-4ec6-b5bb-a5d9de0a91a8",
   "metadata": {},
   "outputs": [
    {
     "data": {
      "text/plain": [
       "20416"
      ]
     },
     "execution_count": 133,
     "metadata": {},
     "output_type": "execute_result"
    }
   ],
   "source": [
    "len(tfidf_vectorizer.get_feature_names_out())"
   ]
  },
  {
   "cell_type": "code",
   "execution_count": 135,
   "id": "fd878033-14f1-4cd3-b0ef-f12b87106b5b",
   "metadata": {},
   "outputs": [
    {
     "data": {
      "text/plain": [
       "array(['00', '000', '00am', ..., 'zoos', 'zuma', 'zumba'], dtype=object)"
      ]
     },
     "execution_count": 135,
     "metadata": {},
     "output_type": "execute_result"
    }
   ],
   "source": [
    "tfidf_vectorizer.get_feature_names_out()"
   ]
  },
  {
   "cell_type": "code",
   "execution_count": 139,
   "id": "78603e3c-4dfa-477f-929b-a59f7856ea0e",
   "metadata": {},
   "outputs": [
    {
     "name": "stdout",
     "output_type": "stream",
     "text": [
      "Combined Train shape: (84821, 20416)\n",
      "Combined Test shape: (21206, 20416)\n"
     ]
    }
   ],
   "source": [
    "# Combine TF-IDF features for each split\n",
    "X_train_combined = hstack([tfidf_text_train])\n",
    "X_test_combined = hstack([tfidf_text_test])\n",
    "\n",
    "# Print shapes\n",
    "print('Combined Train shape:', X_train_combined.shape)\n",
    "print('Combined Test shape:', X_test_combined.shape)"
   ]
  },
  {
   "cell_type": "markdown",
   "id": "f375a3ca-41a8-4492-8aa0-a8215109ee5e",
   "metadata": {},
   "source": [
    "# One-hot Encoding for Categorical Data\n",
    "\n",
    "In this section, we will discuss One-Hot Encoding, a method used to convert categorical data into a numerical format that can be used by machine learning models. One-Hot Encoding is a technique used to transform categorical variables into a format that can be provided to machine learning algorithms. It converts each categorical value into a new binary column (0 or 1). Each category is represented by a unique column where the presence of the category is marked with a 1 and the absence is marked with a 0."
   ]
  },
  {
   "cell_type": "code",
   "execution_count": 148,
   "id": "ecb9b02d-ebca-4b89-bdb7-1cbc01d25980",
   "metadata": {},
   "outputs": [],
   "source": [
    "def one_hot_encode_feature(X_train, X_test, feature_name):\n",
    "    encoder = OneHotEncoder(sparse_output=False, handle_unknown='ignore') \n",
    "    X_train_encoded = encoder.fit_transform(X_train[feature_name].values.reshape(-1, 1))\n",
    "    X_test_encoded = encoder.transform(X_test[feature_name].values.reshape(-1, 1))\n",
    "    \n",
    "    return X_train_encoded, X_test_encoded"
   ]
  },
  {
   "cell_type": "code",
   "execution_count": 150,
   "id": "5c79e335-7e03-4813-a0cb-cf8ca28b6c14",
   "metadata": {},
   "outputs": [],
   "source": [
    "# List of categorical features\n",
    "categorical_features = [\n",
    "    'teacher_prefix',\n",
    "    'school_state',\n",
    "    'project_grade_category',\n",
    "    'project_subject_categories',\n",
    "    'project_subject_subcategories'\n",
    "]\n",
    "\n",
    "# Initialize encoded feature containers\n",
    "encoded_train = []\n",
    "encoded_test = []\n",
    "\n",
    "# Apply encoding function to each feature\n",
    "for feature in categorical_features:\n",
    "    train_enc, test_enc = one_hot_encode_feature(X_train, X_test, feature)\n",
    "    encoded_train.append(train_enc)\n",
    "    encoded_test.append(test_enc)"
   ]
  },
  {
   "cell_type": "code",
   "execution_count": 152,
   "id": "5c1b8318-8e30-4d03-a39b-c244e46b260a",
   "metadata": {},
   "outputs": [
    {
     "name": "stdout",
     "output_type": "stream",
     "text": [
      "Combined Train shape: (84821, 20921)\n",
      "Combined Test shape: (21206, 20921)\n"
     ]
    }
   ],
   "source": [
    "# Convert lists to arrays and combine them\n",
    "X_train_combined = hstack([X_train_combined] + encoded_train)\n",
    "X_test_combined = hstack([X_test_combined] + encoded_test)\n",
    "\n",
    "# Print shapes\n",
    "print('Combined Train shape:', X_train_combined.shape)\n",
    "print('Combined Test shape:', X_test_combined.shape)"
   ]
  },
  {
   "cell_type": "markdown",
   "id": "852bb54c-6cec-4edd-bf21-ef1cb97c0963",
   "metadata": {},
   "source": [
    "# Normalization For Numerical Values\n",
    "\n",
    "In this section, we'll discuss Normalization, a technique used to rescale numerical features to a standard range, typically [0,1]. This process ensures that the data is on a similar scale, which is crucial for many machine learning algorithms."
   ]
  },
  {
   "cell_type": "code",
   "execution_count": 155,
   "id": "22592886-54d8-44a6-a100-f6d26424aa3b",
   "metadata": {},
   "outputs": [
    {
     "name": "stdout",
     "output_type": "stream",
     "text": [
      "Original train data shape for teacher_number_of_previously_posted_projects: (84821, 1)\n",
      "Original test data shape for teacher_number_of_previously_posted_projects: (21206, 1)\n",
      "[[0.        ]\n",
      " [0.        ]\n",
      " [0.00719424]\n",
      " [0.05035971]\n",
      " [0.02158273]]\n",
      "Original train data shape for quantity: (84821, 1)\n",
      "Original test data shape for quantity: (21206, 1)\n",
      "[[0.03361345]\n",
      " [0.67226891]\n",
      " [0.        ]\n",
      " [0.06722689]\n",
      " [0.1092437 ]]\n",
      "Original train data shape for price: (84821, 1)\n",
      "Original test data shape for price: (21206, 1)\n",
      "[[0.19727943]\n",
      " [0.0439691 ]\n",
      " [0.06389932]\n",
      " [0.41646123]\n",
      " [0.06554911]]\n"
     ]
    }
   ],
   "source": [
    "# List of numerical features to normalize\n",
    "numerical_features = ['teacher_number_of_previously_posted_projects', 'quantity', 'price']\n",
    "\n",
    "# Initialize the scaler\n",
    "scaled = MinMaxScaler()\n",
    "\n",
    "# Containers for the normalized features\n",
    "normalized_train_features = []\n",
    "normalized_test_features = []\n",
    "\n",
    "# Normalize each numerical feature and store the results\n",
    "for feature in numerical_features:\n",
    "    # Fit the scaler on the training data and transform both train and test data\n",
    "    scaled.fit(X_train[feature].values.reshape(-1, 1))\n",
    "    \n",
    "    train_transformed = scaled.transform(X_train[feature].values.reshape(-1, 1))\n",
    "    test_transformed = scaled.transform(X_test[feature].values.reshape(-1, 1))\n",
    "    \n",
    "    # Store the transformed features\n",
    "    normalized_train_features.append(train_transformed)\n",
    "    normalized_test_features.append(test_transformed)\n",
    "    \n",
    "    # Print the results for the current feature\n",
    "    print(f'Original train data shape for {feature}:', train_transformed.shape)\n",
    "    print(f'Original test data shape for {feature}:', test_transformed.shape)\n",
    "    print(train_transformed[:5])"
   ]
  },
  {
   "cell_type": "code",
   "execution_count": 157,
   "id": "fb3e5b12-a6a6-4574-ac8f-1ba9c06b31c2",
   "metadata": {},
   "outputs": [
    {
     "name": "stdout",
     "output_type": "stream",
     "text": [
      "Combined Train shape: (84821, 20924)\n",
      "Combined Test shape: (21206, 20924)\n"
     ]
    }
   ],
   "source": [
    "# Combine One-Hot Encoded Features with TF-IDF Features and normalized numerical features\n",
    "X_train_combined = hstack([X_train_combined] + normalized_train_features).tocsr()\n",
    "X_test_combined = hstack([X_test_combined] + normalized_test_features).tocsr()\n",
    "\n",
    "# Print shapes\n",
    "print('Combined Train shape:', X_train_combined.shape)\n",
    "print('Combined Test shape:', X_test_combined.shape)"
   ]
  },
  {
   "cell_type": "markdown",
   "id": "287a9f45-eb85-4170-a21b-6ee79338f6ce",
   "metadata": {},
   "source": [
    "# Logistic Regression\n",
    "\n",
    "Logistic regression is inherently designed for binary classification tasks, where the goal is to predict one of two possible outcomes. In our case, you are predicting whether a project is approved or not, which is a binary outcome (1 for approved, 0 for not approved). Logistic regression is naturally suited to this type of problem.\n",
    "\n",
    "Logistic regression models the probability that a given input belongs to a particular class. "
   ]
  },
  {
   "cell_type": "code",
   "execution_count": 160,
   "id": "5a00d165-e3bf-4aaa-a7e9-3f1a1f5af1a7",
   "metadata": {},
   "outputs": [
    {
     "data": {
      "text/html": [
       "<style>#sk-container-id-1 {\n",
       "  /* Definition of color scheme common for light and dark mode */\n",
       "  --sklearn-color-text: black;\n",
       "  --sklearn-color-line: gray;\n",
       "  /* Definition of color scheme for unfitted estimators */\n",
       "  --sklearn-color-unfitted-level-0: #fff5e6;\n",
       "  --sklearn-color-unfitted-level-1: #f6e4d2;\n",
       "  --sklearn-color-unfitted-level-2: #ffe0b3;\n",
       "  --sklearn-color-unfitted-level-3: chocolate;\n",
       "  /* Definition of color scheme for fitted estimators */\n",
       "  --sklearn-color-fitted-level-0: #f0f8ff;\n",
       "  --sklearn-color-fitted-level-1: #d4ebff;\n",
       "  --sklearn-color-fitted-level-2: #b3dbfd;\n",
       "  --sklearn-color-fitted-level-3: cornflowerblue;\n",
       "\n",
       "  /* Specific color for light theme */\n",
       "  --sklearn-color-text-on-default-background: var(--sg-text-color, var(--theme-code-foreground, var(--jp-content-font-color1, black)));\n",
       "  --sklearn-color-background: var(--sg-background-color, var(--theme-background, var(--jp-layout-color0, white)));\n",
       "  --sklearn-color-border-box: var(--sg-text-color, var(--theme-code-foreground, var(--jp-content-font-color1, black)));\n",
       "  --sklearn-color-icon: #696969;\n",
       "\n",
       "  @media (prefers-color-scheme: dark) {\n",
       "    /* Redefinition of color scheme for dark theme */\n",
       "    --sklearn-color-text-on-default-background: var(--sg-text-color, var(--theme-code-foreground, var(--jp-content-font-color1, white)));\n",
       "    --sklearn-color-background: var(--sg-background-color, var(--theme-background, var(--jp-layout-color0, #111)));\n",
       "    --sklearn-color-border-box: var(--sg-text-color, var(--theme-code-foreground, var(--jp-content-font-color1, white)));\n",
       "    --sklearn-color-icon: #878787;\n",
       "  }\n",
       "}\n",
       "\n",
       "#sk-container-id-1 {\n",
       "  color: var(--sklearn-color-text);\n",
       "}\n",
       "\n",
       "#sk-container-id-1 pre {\n",
       "  padding: 0;\n",
       "}\n",
       "\n",
       "#sk-container-id-1 input.sk-hidden--visually {\n",
       "  border: 0;\n",
       "  clip: rect(1px 1px 1px 1px);\n",
       "  clip: rect(1px, 1px, 1px, 1px);\n",
       "  height: 1px;\n",
       "  margin: -1px;\n",
       "  overflow: hidden;\n",
       "  padding: 0;\n",
       "  position: absolute;\n",
       "  width: 1px;\n",
       "}\n",
       "\n",
       "#sk-container-id-1 div.sk-dashed-wrapped {\n",
       "  border: 1px dashed var(--sklearn-color-line);\n",
       "  margin: 0 0.4em 0.5em 0.4em;\n",
       "  box-sizing: border-box;\n",
       "  padding-bottom: 0.4em;\n",
       "  background-color: var(--sklearn-color-background);\n",
       "}\n",
       "\n",
       "#sk-container-id-1 div.sk-container {\n",
       "  /* jupyter's `normalize.less` sets `[hidden] { display: none; }`\n",
       "     but bootstrap.min.css set `[hidden] { display: none !important; }`\n",
       "     so we also need the `!important` here to be able to override the\n",
       "     default hidden behavior on the sphinx rendered scikit-learn.org.\n",
       "     See: https://github.com/scikit-learn/scikit-learn/issues/21755 */\n",
       "  display: inline-block !important;\n",
       "  position: relative;\n",
       "}\n",
       "\n",
       "#sk-container-id-1 div.sk-text-repr-fallback {\n",
       "  display: none;\n",
       "}\n",
       "\n",
       "div.sk-parallel-item,\n",
       "div.sk-serial,\n",
       "div.sk-item {\n",
       "  /* draw centered vertical line to link estimators */\n",
       "  background-image: linear-gradient(var(--sklearn-color-text-on-default-background), var(--sklearn-color-text-on-default-background));\n",
       "  background-size: 2px 100%;\n",
       "  background-repeat: no-repeat;\n",
       "  background-position: center center;\n",
       "}\n",
       "\n",
       "/* Parallel-specific style estimator block */\n",
       "\n",
       "#sk-container-id-1 div.sk-parallel-item::after {\n",
       "  content: \"\";\n",
       "  width: 100%;\n",
       "  border-bottom: 2px solid var(--sklearn-color-text-on-default-background);\n",
       "  flex-grow: 1;\n",
       "}\n",
       "\n",
       "#sk-container-id-1 div.sk-parallel {\n",
       "  display: flex;\n",
       "  align-items: stretch;\n",
       "  justify-content: center;\n",
       "  background-color: var(--sklearn-color-background);\n",
       "  position: relative;\n",
       "}\n",
       "\n",
       "#sk-container-id-1 div.sk-parallel-item {\n",
       "  display: flex;\n",
       "  flex-direction: column;\n",
       "}\n",
       "\n",
       "#sk-container-id-1 div.sk-parallel-item:first-child::after {\n",
       "  align-self: flex-end;\n",
       "  width: 50%;\n",
       "}\n",
       "\n",
       "#sk-container-id-1 div.sk-parallel-item:last-child::after {\n",
       "  align-self: flex-start;\n",
       "  width: 50%;\n",
       "}\n",
       "\n",
       "#sk-container-id-1 div.sk-parallel-item:only-child::after {\n",
       "  width: 0;\n",
       "}\n",
       "\n",
       "/* Serial-specific style estimator block */\n",
       "\n",
       "#sk-container-id-1 div.sk-serial {\n",
       "  display: flex;\n",
       "  flex-direction: column;\n",
       "  align-items: center;\n",
       "  background-color: var(--sklearn-color-background);\n",
       "  padding-right: 1em;\n",
       "  padding-left: 1em;\n",
       "}\n",
       "\n",
       "\n",
       "/* Toggleable style: style used for estimator/Pipeline/ColumnTransformer box that is\n",
       "clickable and can be expanded/collapsed.\n",
       "- Pipeline and ColumnTransformer use this feature and define the default style\n",
       "- Estimators will overwrite some part of the style using the `sk-estimator` class\n",
       "*/\n",
       "\n",
       "/* Pipeline and ColumnTransformer style (default) */\n",
       "\n",
       "#sk-container-id-1 div.sk-toggleable {\n",
       "  /* Default theme specific background. It is overwritten whether we have a\n",
       "  specific estimator or a Pipeline/ColumnTransformer */\n",
       "  background-color: var(--sklearn-color-background);\n",
       "}\n",
       "\n",
       "/* Toggleable label */\n",
       "#sk-container-id-1 label.sk-toggleable__label {\n",
       "  cursor: pointer;\n",
       "  display: block;\n",
       "  width: 100%;\n",
       "  margin-bottom: 0;\n",
       "  padding: 0.5em;\n",
       "  box-sizing: border-box;\n",
       "  text-align: center;\n",
       "}\n",
       "\n",
       "#sk-container-id-1 label.sk-toggleable__label-arrow:before {\n",
       "  /* Arrow on the left of the label */\n",
       "  content: \"▸\";\n",
       "  float: left;\n",
       "  margin-right: 0.25em;\n",
       "  color: var(--sklearn-color-icon);\n",
       "}\n",
       "\n",
       "#sk-container-id-1 label.sk-toggleable__label-arrow:hover:before {\n",
       "  color: var(--sklearn-color-text);\n",
       "}\n",
       "\n",
       "/* Toggleable content - dropdown */\n",
       "\n",
       "#sk-container-id-1 div.sk-toggleable__content {\n",
       "  max-height: 0;\n",
       "  max-width: 0;\n",
       "  overflow: hidden;\n",
       "  text-align: left;\n",
       "  /* unfitted */\n",
       "  background-color: var(--sklearn-color-unfitted-level-0);\n",
       "}\n",
       "\n",
       "#sk-container-id-1 div.sk-toggleable__content.fitted {\n",
       "  /* fitted */\n",
       "  background-color: var(--sklearn-color-fitted-level-0);\n",
       "}\n",
       "\n",
       "#sk-container-id-1 div.sk-toggleable__content pre {\n",
       "  margin: 0.2em;\n",
       "  border-radius: 0.25em;\n",
       "  color: var(--sklearn-color-text);\n",
       "  /* unfitted */\n",
       "  background-color: var(--sklearn-color-unfitted-level-0);\n",
       "}\n",
       "\n",
       "#sk-container-id-1 div.sk-toggleable__content.fitted pre {\n",
       "  /* unfitted */\n",
       "  background-color: var(--sklearn-color-fitted-level-0);\n",
       "}\n",
       "\n",
       "#sk-container-id-1 input.sk-toggleable__control:checked~div.sk-toggleable__content {\n",
       "  /* Expand drop-down */\n",
       "  max-height: 200px;\n",
       "  max-width: 100%;\n",
       "  overflow: auto;\n",
       "}\n",
       "\n",
       "#sk-container-id-1 input.sk-toggleable__control:checked~label.sk-toggleable__label-arrow:before {\n",
       "  content: \"▾\";\n",
       "}\n",
       "\n",
       "/* Pipeline/ColumnTransformer-specific style */\n",
       "\n",
       "#sk-container-id-1 div.sk-label input.sk-toggleable__control:checked~label.sk-toggleable__label {\n",
       "  color: var(--sklearn-color-text);\n",
       "  background-color: var(--sklearn-color-unfitted-level-2);\n",
       "}\n",
       "\n",
       "#sk-container-id-1 div.sk-label.fitted input.sk-toggleable__control:checked~label.sk-toggleable__label {\n",
       "  background-color: var(--sklearn-color-fitted-level-2);\n",
       "}\n",
       "\n",
       "/* Estimator-specific style */\n",
       "\n",
       "/* Colorize estimator box */\n",
       "#sk-container-id-1 div.sk-estimator input.sk-toggleable__control:checked~label.sk-toggleable__label {\n",
       "  /* unfitted */\n",
       "  background-color: var(--sklearn-color-unfitted-level-2);\n",
       "}\n",
       "\n",
       "#sk-container-id-1 div.sk-estimator.fitted input.sk-toggleable__control:checked~label.sk-toggleable__label {\n",
       "  /* fitted */\n",
       "  background-color: var(--sklearn-color-fitted-level-2);\n",
       "}\n",
       "\n",
       "#sk-container-id-1 div.sk-label label.sk-toggleable__label,\n",
       "#sk-container-id-1 div.sk-label label {\n",
       "  /* The background is the default theme color */\n",
       "  color: var(--sklearn-color-text-on-default-background);\n",
       "}\n",
       "\n",
       "/* On hover, darken the color of the background */\n",
       "#sk-container-id-1 div.sk-label:hover label.sk-toggleable__label {\n",
       "  color: var(--sklearn-color-text);\n",
       "  background-color: var(--sklearn-color-unfitted-level-2);\n",
       "}\n",
       "\n",
       "/* Label box, darken color on hover, fitted */\n",
       "#sk-container-id-1 div.sk-label.fitted:hover label.sk-toggleable__label.fitted {\n",
       "  color: var(--sklearn-color-text);\n",
       "  background-color: var(--sklearn-color-fitted-level-2);\n",
       "}\n",
       "\n",
       "/* Estimator label */\n",
       "\n",
       "#sk-container-id-1 div.sk-label label {\n",
       "  font-family: monospace;\n",
       "  font-weight: bold;\n",
       "  display: inline-block;\n",
       "  line-height: 1.2em;\n",
       "}\n",
       "\n",
       "#sk-container-id-1 div.sk-label-container {\n",
       "  text-align: center;\n",
       "}\n",
       "\n",
       "/* Estimator-specific */\n",
       "#sk-container-id-1 div.sk-estimator {\n",
       "  font-family: monospace;\n",
       "  border: 1px dotted var(--sklearn-color-border-box);\n",
       "  border-radius: 0.25em;\n",
       "  box-sizing: border-box;\n",
       "  margin-bottom: 0.5em;\n",
       "  /* unfitted */\n",
       "  background-color: var(--sklearn-color-unfitted-level-0);\n",
       "}\n",
       "\n",
       "#sk-container-id-1 div.sk-estimator.fitted {\n",
       "  /* fitted */\n",
       "  background-color: var(--sklearn-color-fitted-level-0);\n",
       "}\n",
       "\n",
       "/* on hover */\n",
       "#sk-container-id-1 div.sk-estimator:hover {\n",
       "  /* unfitted */\n",
       "  background-color: var(--sklearn-color-unfitted-level-2);\n",
       "}\n",
       "\n",
       "#sk-container-id-1 div.sk-estimator.fitted:hover {\n",
       "  /* fitted */\n",
       "  background-color: var(--sklearn-color-fitted-level-2);\n",
       "}\n",
       "\n",
       "/* Specification for estimator info (e.g. \"i\" and \"?\") */\n",
       "\n",
       "/* Common style for \"i\" and \"?\" */\n",
       "\n",
       ".sk-estimator-doc-link,\n",
       "a:link.sk-estimator-doc-link,\n",
       "a:visited.sk-estimator-doc-link {\n",
       "  float: right;\n",
       "  font-size: smaller;\n",
       "  line-height: 1em;\n",
       "  font-family: monospace;\n",
       "  background-color: var(--sklearn-color-background);\n",
       "  border-radius: 1em;\n",
       "  height: 1em;\n",
       "  width: 1em;\n",
       "  text-decoration: none !important;\n",
       "  margin-left: 1ex;\n",
       "  /* unfitted */\n",
       "  border: var(--sklearn-color-unfitted-level-1) 1pt solid;\n",
       "  color: var(--sklearn-color-unfitted-level-1);\n",
       "}\n",
       "\n",
       ".sk-estimator-doc-link.fitted,\n",
       "a:link.sk-estimator-doc-link.fitted,\n",
       "a:visited.sk-estimator-doc-link.fitted {\n",
       "  /* fitted */\n",
       "  border: var(--sklearn-color-fitted-level-1) 1pt solid;\n",
       "  color: var(--sklearn-color-fitted-level-1);\n",
       "}\n",
       "\n",
       "/* On hover */\n",
       "div.sk-estimator:hover .sk-estimator-doc-link:hover,\n",
       ".sk-estimator-doc-link:hover,\n",
       "div.sk-label-container:hover .sk-estimator-doc-link:hover,\n",
       ".sk-estimator-doc-link:hover {\n",
       "  /* unfitted */\n",
       "  background-color: var(--sklearn-color-unfitted-level-3);\n",
       "  color: var(--sklearn-color-background);\n",
       "  text-decoration: none;\n",
       "}\n",
       "\n",
       "div.sk-estimator.fitted:hover .sk-estimator-doc-link.fitted:hover,\n",
       ".sk-estimator-doc-link.fitted:hover,\n",
       "div.sk-label-container:hover .sk-estimator-doc-link.fitted:hover,\n",
       ".sk-estimator-doc-link.fitted:hover {\n",
       "  /* fitted */\n",
       "  background-color: var(--sklearn-color-fitted-level-3);\n",
       "  color: var(--sklearn-color-background);\n",
       "  text-decoration: none;\n",
       "}\n",
       "\n",
       "/* Span, style for the box shown on hovering the info icon */\n",
       ".sk-estimator-doc-link span {\n",
       "  display: none;\n",
       "  z-index: 9999;\n",
       "  position: relative;\n",
       "  font-weight: normal;\n",
       "  right: .2ex;\n",
       "  padding: .5ex;\n",
       "  margin: .5ex;\n",
       "  width: min-content;\n",
       "  min-width: 20ex;\n",
       "  max-width: 50ex;\n",
       "  color: var(--sklearn-color-text);\n",
       "  box-shadow: 2pt 2pt 4pt #999;\n",
       "  /* unfitted */\n",
       "  background: var(--sklearn-color-unfitted-level-0);\n",
       "  border: .5pt solid var(--sklearn-color-unfitted-level-3);\n",
       "}\n",
       "\n",
       ".sk-estimator-doc-link.fitted span {\n",
       "  /* fitted */\n",
       "  background: var(--sklearn-color-fitted-level-0);\n",
       "  border: var(--sklearn-color-fitted-level-3);\n",
       "}\n",
       "\n",
       ".sk-estimator-doc-link:hover span {\n",
       "  display: block;\n",
       "}\n",
       "\n",
       "/* \"?\"-specific style due to the `<a>` HTML tag */\n",
       "\n",
       "#sk-container-id-1 a.estimator_doc_link {\n",
       "  float: right;\n",
       "  font-size: 1rem;\n",
       "  line-height: 1em;\n",
       "  font-family: monospace;\n",
       "  background-color: var(--sklearn-color-background);\n",
       "  border-radius: 1rem;\n",
       "  height: 1rem;\n",
       "  width: 1rem;\n",
       "  text-decoration: none;\n",
       "  /* unfitted */\n",
       "  color: var(--sklearn-color-unfitted-level-1);\n",
       "  border: var(--sklearn-color-unfitted-level-1) 1pt solid;\n",
       "}\n",
       "\n",
       "#sk-container-id-1 a.estimator_doc_link.fitted {\n",
       "  /* fitted */\n",
       "  border: var(--sklearn-color-fitted-level-1) 1pt solid;\n",
       "  color: var(--sklearn-color-fitted-level-1);\n",
       "}\n",
       "\n",
       "/* On hover */\n",
       "#sk-container-id-1 a.estimator_doc_link:hover {\n",
       "  /* unfitted */\n",
       "  background-color: var(--sklearn-color-unfitted-level-3);\n",
       "  color: var(--sklearn-color-background);\n",
       "  text-decoration: none;\n",
       "}\n",
       "\n",
       "#sk-container-id-1 a.estimator_doc_link.fitted:hover {\n",
       "  /* fitted */\n",
       "  background-color: var(--sklearn-color-fitted-level-3);\n",
       "}\n",
       "</style><div id=\"sk-container-id-1\" class=\"sk-top-container\"><div class=\"sk-text-repr-fallback\"><pre>LogisticRegression(max_iter=1000, random_state=42)</pre><b>In a Jupyter environment, please rerun this cell to show the HTML representation or trust the notebook. <br />On GitHub, the HTML representation is unable to render, please try loading this page with nbviewer.org.</b></div><div class=\"sk-container\" hidden><div class=\"sk-item\"><div class=\"sk-estimator fitted sk-toggleable\"><input class=\"sk-toggleable__control sk-hidden--visually\" id=\"sk-estimator-id-1\" type=\"checkbox\" checked><label for=\"sk-estimator-id-1\" class=\"sk-toggleable__label fitted sk-toggleable__label-arrow fitted\">&nbsp;&nbsp;LogisticRegression<a class=\"sk-estimator-doc-link fitted\" rel=\"noreferrer\" target=\"_blank\" href=\"https://scikit-learn.org/1.4/modules/generated/sklearn.linear_model.LogisticRegression.html\">?<span>Documentation for LogisticRegression</span></a><span class=\"sk-estimator-doc-link fitted\">i<span>Fitted</span></span></label><div class=\"sk-toggleable__content fitted\"><pre>LogisticRegression(max_iter=1000, random_state=42)</pre></div> </div></div></div></div>"
      ],
      "text/plain": [
       "LogisticRegression(max_iter=1000, random_state=42)"
      ]
     },
     "execution_count": 160,
     "metadata": {},
     "output_type": "execute_result"
    }
   ],
   "source": [
    "# Initialize Logistic Regression\n",
    "logistic_regression = LogisticRegression(max_iter=1000, random_state=42)\n",
    "\n",
    "# Train the model\n",
    "logistic_regression.fit(X_train_combined, y_train)"
   ]
  },
  {
   "cell_type": "code",
   "execution_count": 162,
   "id": "8d67c5ab-9f69-4fcf-ac3c-a8ce7e0f76f0",
   "metadata": {},
   "outputs": [
    {
     "name": "stdout",
     "output_type": "stream",
     "text": [
      "Train Accuracy: 0.8626165690100329\n",
      "Train Classification Report:\n",
      "              precision    recall  f1-score   support\n",
      "\n",
      "           0       0.78      0.13      0.22     12848\n",
      "           1       0.86      0.99      0.92     71973\n",
      "\n",
      "    accuracy                           0.86     84821\n",
      "   macro avg       0.82      0.56      0.57     84821\n",
      "weighted avg       0.85      0.86      0.82     84821\n",
      "\n"
     ]
    }
   ],
   "source": [
    "# Predict on the Training Set\n",
    "y_train_pred = logistic_regression.predict(X_train_combined)\n",
    "train_accuracy = accuracy_score(y_train, y_train_pred)\n",
    "train_report = classification_report(y_train, y_train_pred)\n",
    "\n",
    "print(f'Train Accuracy: {train_accuracy}')\n",
    "print('Train Classification Report:')\n",
    "print(train_report)"
   ]
  },
  {
   "cell_type": "code",
   "execution_count": 164,
   "id": "5e216012-1aae-4153-b4ff-e4c6a43fee49",
   "metadata": {},
   "outputs": [
    {
     "name": "stdout",
     "output_type": "stream",
     "text": [
      "Test Accuracy: 0.8494294067716684\n",
      "Test Classification Report:\n",
      "              precision    recall  f1-score   support\n",
      "\n",
      "           0       0.52      0.08      0.14      3212\n",
      "           1       0.86      0.99      0.92     17994\n",
      "\n",
      "    accuracy                           0.85     21206\n",
      "   macro avg       0.69      0.53      0.53     21206\n",
      "weighted avg       0.81      0.85      0.80     21206\n",
      "\n"
     ]
    }
   ],
   "source": [
    "# Predict on the Test set\n",
    "y_test_pred = logistic_regression.predict(X_test_combined)\n",
    "test_accuracy = accuracy_score(y_test, y_test_pred)\n",
    "test_report = classification_report(y_test, y_test_pred)\n",
    "\n",
    "print(f'Test Accuracy: {test_accuracy}')\n",
    "print('Test Classification Report:')\n",
    "print(test_report)"
   ]
  },
  {
   "cell_type": "markdown",
   "id": "406203f2-8800-4f02-b08d-30f576e07ce4",
   "metadata": {},
   "source": [
    "# Logistic Regresson with Hyperparameter Tuning\n",
    "\n",
    "Logistic regression doesn't require extensive hyperparameter tuning. The primary parameter to adjust is the regularization strength (C), which controls the balance between fitting the data well and keeping the model simple."
   ]
  },
  {
   "cell_type": "code",
   "execution_count": 180,
   "id": "48cb8571-e320-4074-8a94-273ae27f36ca",
   "metadata": {},
   "outputs": [
    {
     "name": "stdout",
     "output_type": "stream",
     "text": [
      "Best parameters: {'C': 100}\n",
      "Best cross-validation score: 0.7239481058447795\n"
     ]
    }
   ],
   "source": [
    "# The range of C values to test\n",
    "param_grid = {'C': [0.01, 0.1, 1, 10, 100, 1000]}\n",
    "\n",
    "# Initialize Logistic Regression model\n",
    "model = LogisticRegression(max_iter=1500, class_weight='balanced')\n",
    "\n",
    "# Initialize GridSearchCV\n",
    "grid_search = GridSearchCV(estimator=model, param_grid=param_grid, cv=5, scoring='accuracy')\n",
    "\n",
    "# Fit GridSearchCV\n",
    "grid_search.fit(X_train_combined, y_train)\n",
    "\n",
    "# Get the best parameters\n",
    "best_params = grid_search.best_params_\n",
    "best_score = grid_search.best_score_\n",
    "\n",
    "print(\"Best parameters:\", best_params)\n",
    "print(\"Best cross-validation score:\", best_score)"
   ]
  },
  {
   "cell_type": "code",
   "execution_count": 182,
   "id": "52349852-0cf1-418a-921a-12ea56b40b5a",
   "metadata": {},
   "outputs": [
    {
     "name": "stdout",
     "output_type": "stream",
     "text": [
      "Train Accuracy: 0.8472430176489313\n",
      "Train Classification Report:\n",
      "               precision    recall  f1-score   support\n",
      "\n",
      "           0       0.50      0.91      0.64     12848\n",
      "           1       0.98      0.84      0.90     71973\n",
      "\n",
      "    accuracy                           0.85     84821\n",
      "   macro avg       0.74      0.87      0.77     84821\n",
      "weighted avg       0.91      0.85      0.86     84821\n",
      "\n"
     ]
    }
   ],
   "source": [
    "# Evaluate the model with the best parameters on the training set\n",
    "best_model = grid_search.best_estimator_\n",
    "y_train_pred = best_model.predict(X_train_combined)\n",
    "print(\"Train Accuracy:\", accuracy_score(y_train, y_train_pred))\n",
    "print(\"Train Classification Report:\\n\", classification_report(y_train, y_train_pred))"
   ]
  },
  {
   "cell_type": "code",
   "execution_count": 184,
   "id": "450cd3a9-938c-4f4d-8744-526defa3e9c8",
   "metadata": {},
   "outputs": [
    {
     "name": "stdout",
     "output_type": "stream",
     "text": [
      "Test Accuracy: 0.7159294539281336\n",
      "Test Classification Report:\n",
      "               precision    recall  f1-score   support\n",
      "\n",
      "           0       0.26      0.48      0.34      3212\n",
      "           1       0.89      0.76      0.82     17994\n",
      "\n",
      "    accuracy                           0.72     21206\n",
      "   macro avg       0.58      0.62      0.58     21206\n",
      "weighted avg       0.80      0.72      0.75     21206\n",
      "\n"
     ]
    }
   ],
   "source": [
    "# Evaluate on the test set\n",
    "y_test_pred = best_model.predict(X_test_combined)\n",
    "print(\"Test Accuracy:\", accuracy_score(y_test, y_test_pred))\n",
    "print(\"Test Classification Report:\\n\", classification_report(y_test, y_test_pred))"
   ]
  },
  {
   "cell_type": "markdown",
   "id": "1c006a0a-0539-41c8-bf7a-c225e44abd86",
   "metadata": {},
   "source": [
    "# Decision Tree Classifier\n",
    "\n",
    "A decision tree can help classify whether a project is likely to be approved or not based on features such as project subject, teacher's previous projects, and funding amount. The tree splits the data to find patterns that separate approved from non-approved projects.\n",
    "\n",
    "The decision tree classifier with class_weight='balanced' helps handle class imbalance effectively."
   ]
  },
  {
   "cell_type": "code",
   "execution_count": 187,
   "id": "afd7309d-d92a-470a-b823-74ec5309e513",
   "metadata": {},
   "outputs": [
    {
     "name": "stdout",
     "output_type": "stream",
     "text": [
      "Train Accuracy: 0.9999764209334953\n",
      "Train Classification Report:\n",
      "               precision    recall  f1-score   support\n",
      "\n",
      "           0       1.00      1.00      1.00     12848\n",
      "           1       1.00      1.00      1.00     71973\n",
      "\n",
      "    accuracy                           1.00     84821\n",
      "   macro avg       1.00      1.00      1.00     84821\n",
      "weighted avg       1.00      1.00      1.00     84821\n",
      "\n"
     ]
    }
   ],
   "source": [
    "# Initialize Decision Tree Classifier\n",
    "decision_tree = DecisionTreeClassifier(random_state=42, class_weight='balanced')\n",
    "\n",
    "# Train the model\n",
    "decision_tree.fit(X_train_combined, y_train)\n",
    "y_train_pred=decision_tree.predict(X_train_combined)\n",
    "print(\"Train Accuracy:\", accuracy_score(y_train, y_train_pred))\n",
    "print(\"Train Classification Report:\\n\", classification_report(y_train, y_train_pred))"
   ]
  },
  {
   "cell_type": "code",
   "execution_count": 188,
   "id": "335eb33e-4d89-43ba-8f94-fb852a430843",
   "metadata": {},
   "outputs": [
    {
     "name": "stdout",
     "output_type": "stream",
     "text": [
      "Test Accuracy: 0.754361973026502\n",
      "Test Classification Report:\n",
      "              precision    recall  f1-score   support\n",
      "\n",
      "           0       0.24      0.29      0.26      3212\n",
      "           1       0.87      0.84      0.85     17994\n",
      "\n",
      "    accuracy                           0.75     21206\n",
      "   macro avg       0.56      0.56      0.56     21206\n",
      "weighted avg       0.77      0.75      0.76     21206\n",
      "\n"
     ]
    }
   ],
   "source": [
    "# Predict on the Test set\n",
    "y_test_pred = decision_tree.predict(X_test_combined)\n",
    "test_accuracy = accuracy_score(y_test, y_test_pred)\n",
    "test_report = classification_report(y_test, y_test_pred)\n",
    "\n",
    "print(f'Test Accuracy: {test_accuracy}')\n",
    "print('Test Classification Report:')\n",
    "print(test_report)"
   ]
  },
  {
   "cell_type": "markdown",
   "id": "f39189a6-8406-48a5-b4fd-d0abbbb34b81",
   "metadata": {},
   "source": [
    "# Random Forest\n",
    "\n",
    "Random Forest is an ensemble learning method used for classification and regression tasks. It constructs multiple decision trees during training and outputs the mode of the classes (for classification) or mean prediction (for regression) of the individual trees. Random Forest can achieve higher accuracy than a single decision tree. It reduces the risk of overfitting and improves generalization.\n",
    "\n",
    "In our case, predicting project approval, a Random Forest Classifier can be used to determine whether a project is likely to be approved based on various features. The model combines the predictions from multiple decision trees, leading to a more accurate and robust classifier compared to a single decision tree."
   ]
  },
  {
   "cell_type": "code",
   "execution_count": 192,
   "id": "0a70bba3-d5ed-4e8a-8cab-8846e11436d2",
   "metadata": {},
   "outputs": [
    {
     "name": "stdout",
     "output_type": "stream",
     "text": [
      "Train Accuracy: 0.9999646314002428\n",
      "Train Classification Report:\n",
      "               precision    recall  f1-score   support\n",
      "\n",
      "           0       1.00      1.00      1.00     12848\n",
      "           1       1.00      1.00      1.00     71973\n",
      "\n",
      "    accuracy                           1.00     84821\n",
      "   macro avg       1.00      1.00      1.00     84821\n",
      "weighted avg       1.00      1.00      1.00     84821\n",
      "\n"
     ]
    }
   ],
   "source": [
    "# Initialize Random Forest Classifier\n",
    "random_forest = RandomForestClassifier(random_state=42)  \n",
    "\n",
    "# Train the model\n",
    "random_forest.fit(X_train_combined, y_train)\n",
    "y_train_pred=random_forest.predict(X_train_combined)\n",
    "print(\"Train Accuracy:\", accuracy_score(y_train, y_train_pred))\n",
    "print(\"Train Classification Report:\\n\", classification_report(y_train, y_train_pred))"
   ]
  },
  {
   "cell_type": "code",
   "execution_count": 193,
   "id": "b1d73588-095a-4c06-9b43-a718230bd662",
   "metadata": {},
   "outputs": [
    {
     "name": "stdout",
     "output_type": "stream",
     "text": [
      "Test Accuracy: 0.8477789304913703\n",
      "Test Classification Report:\n",
      "              precision    recall  f1-score   support\n",
      "\n",
      "           0       0.21      0.00      0.00      3212\n",
      "           1       0.85      1.00      0.92     17994\n",
      "\n",
      "    accuracy                           0.85     21206\n",
      "   macro avg       0.53      0.50      0.46     21206\n",
      "weighted avg       0.75      0.85      0.78     21206\n",
      "\n"
     ]
    }
   ],
   "source": [
    "# Predict on the Test set\n",
    "y_test_pred = random_forest.predict(X_test_combined)\n",
    "test_accuracy = accuracy_score(y_test, y_test_pred)\n",
    "test_report = classification_report(y_test, y_test_pred)\n",
    "\n",
    "print(f'Test Accuracy: {test_accuracy}')\n",
    "print('Test Classification Report:')\n",
    "print(test_report)"
   ]
  },
  {
   "cell_type": "markdown",
   "id": "1f096c6d-0b6b-4b05-b4a1-0bc4acf4c003",
   "metadata": {},
   "source": [
    "# XGBoost\n",
    "\n",
    "XGBoost is built on the gradient boosting framework, where trees are built sequentially to correct errors made by previous trees. Each new tree improves upon the errors of the existing ensemble. In our case, predicting project approval, XGBoost can be used to handle complex patterns and interactions in the data, potentially yielding better performance compared to traditional models like logistic regression or decision trees."
   ]
  },
  {
   "cell_type": "code",
   "execution_count": 197,
   "id": "d821e045-0cdb-4adb-a870-0a809cc7babd",
   "metadata": {},
   "outputs": [
    {
     "name": "stdout",
     "output_type": "stream",
     "text": [
      "Train Accuracy: 0.8772709588427394\n",
      "Train Classification Report:\n",
      "               precision    recall  f1-score   support\n",
      "\n",
      "           0       0.87      0.22      0.36     12848\n",
      "           1       0.88      0.99      0.93     71973\n",
      "\n",
      "    accuracy                           0.88     84821\n",
      "   macro avg       0.87      0.61      0.64     84821\n",
      "weighted avg       0.88      0.88      0.84     84821\n",
      "\n"
     ]
    }
   ],
   "source": [
    "# Initialize XGBoost Classifier\n",
    "xgb_classifier = xgb.XGBClassifier(random_state=42, eval_metric='error')\n",
    "\n",
    "# Train the model\n",
    "xgb_classifier.fit(X_train_combined, y_train)\n",
    "# Predict on the training set\n",
    "y_train_pred = xgb_classifier.predict(X_train_combined)\n",
    "print(\"Train Accuracy:\", accuracy_score(y_train, y_train_pred))\n",
    "print(\"Train Classification Report:\\n\", classification_report(y_train, y_train_pred))"
   ]
  },
  {
   "cell_type": "code",
   "execution_count": 198,
   "id": "e9099a5e-6774-4b62-9d48-5f58a9a0e9c2",
   "metadata": {},
   "outputs": [
    {
     "name": "stdout",
     "output_type": "stream",
     "text": [
      "Test Accuracy: 0.8498066584928794\n",
      "Test Classification Report:\n",
      "              precision    recall  f1-score   support\n",
      "\n",
      "           0       0.52      0.10      0.16      3212\n",
      "           1       0.86      0.98      0.92     17994\n",
      "\n",
      "    accuracy                           0.85     21206\n",
      "   macro avg       0.69      0.54      0.54     21206\n",
      "weighted avg       0.81      0.85      0.80     21206\n",
      "\n"
     ]
    }
   ],
   "source": [
    "# Predict on the Test set\n",
    "y_test_pred = xgb_classifier.predict(X_test_combined)\n",
    "test_accuracy = accuracy_score(y_test, y_test_pred)\n",
    "test_report = classification_report(y_test, y_test_pred)\n",
    "\n",
    "print(f'Test Accuracy: {test_accuracy}')\n",
    "print('Test Classification Report:')\n",
    "print(test_report)"
   ]
  },
  {
   "cell_type": "markdown",
   "id": "479d3168-b6b3-42f9-ae50-7fd68b5d9d75",
   "metadata": {},
   "source": [
    "# XGBoost with Hyperparamter Tuning"
   ]
  },
  {
   "cell_type": "code",
   "execution_count": 208,
   "id": "5d917d8a-6abd-4946-b972-f90aeef8a31e",
   "metadata": {},
   "outputs": [
    {
     "name": "stdout",
     "output_type": "stream",
     "text": [
      "Best Parameters for n_iter=5: {'gamma': 0.1, 'max_depth': 5, 'n_estimators': 314}\n",
      "Best Score for n_iter=5: 0.8504733415387074\n"
     ]
    }
   ],
   "source": [
    "# Initialize the XGBoost Classifier\n",
    "xgb_classifier = xgb.XGBClassifier(random_state=42, eval_metric='error')\n",
    "\n",
    "# Define the parameter distribution for hyperparameter tuning\n",
    "param_dist = {\n",
    "    'n_estimators': randint(100, 500),  \n",
    "    'max_depth': randint(3, 10),         \n",
    "    'gamma': [0, 0.1, 0.2, 0.3, 0.4, 0.5] \n",
    "}\n",
    "\n",
    "# Initialize RandomizedSearchCV with n_iter=5\n",
    "random_search= RandomizedSearchCV(estimator=xgb_classifier, param_distributions=param_dist, scoring='accuracy', cv=2, n_iter=3, random_state=42)\n",
    "\n",
    "# Fit RandomizedSearchCV\n",
    "random_search.fit(X_train_combined, y_train)\n",
    "\n",
    "# Best parameters and best score for n_iter=5\n",
    "print(\"Best Parameters for n_iter=5:\", random_search.best_params_)\n",
    "print(\"Best Score for n_iter=5:\", random_search.best_score_)"
   ]
  },
  {
   "cell_type": "code",
   "execution_count": 212,
   "id": "990e6897-1d55-4188-aac5-17d1337c7b8f",
   "metadata": {},
   "outputs": [
    {
     "name": "stdout",
     "output_type": "stream",
     "text": [
      "Train Accuracy: 0.898657172162554\n",
      "Train Classification Report:\n",
      "               precision    recall  f1-score   support\n",
      "\n",
      "           0       0.93      0.36      0.52     12848\n",
      "           1       0.90      0.99      0.94     71973\n",
      "\n",
      "    accuracy                           0.90     84821\n",
      "   macro avg       0.91      0.68      0.73     84821\n",
      "weighted avg       0.90      0.90      0.88     84821\n",
      "\n"
     ]
    }
   ],
   "source": [
    "# Train the model with the best parameters\n",
    "best_xgb_classifier = random_search.best_estimator_\n",
    "\n",
    "# Predict on the training set\n",
    "y_train_pred = best_xgb_classifier.predict(X_train_combined)\n",
    "print(\"Train Accuracy:\", accuracy_score(y_train, y_train_pred))\n",
    "print(\"Train Classification Report:\\n\", classification_report(y_train, y_train_pred))"
   ]
  },
  {
   "cell_type": "code",
   "execution_count": 214,
   "id": "a852d49a-bf50-4675-8389-8e1f2785b8f6",
   "metadata": {},
   "outputs": [
    {
     "name": "stdout",
     "output_type": "stream",
     "text": [
      "Test Accuracy: 0.8493350938413656\n",
      "Test Classification Report:\n",
      "              precision    recall  f1-score   support\n",
      "\n",
      "           0       0.51      0.13      0.21      3212\n",
      "           1       0.86      0.98      0.92     17994\n",
      "\n",
      "    accuracy                           0.85     21206\n",
      "   macro avg       0.69      0.55      0.56     21206\n",
      "weighted avg       0.81      0.85      0.81     21206\n",
      "\n"
     ]
    }
   ],
   "source": [
    "# Predict on the Test set\n",
    "y_test_pred = best_xgb_classifier.predict(X_test_combined)\n",
    "test_accuracy = accuracy_score(y_test, y_test_pred)\n",
    "test_report = classification_report(y_test, y_test_pred)\n",
    "\n",
    "print(f'Test Accuracy: {test_accuracy}')\n",
    "print('Test Classification Report:')\n",
    "print(test_report)"
   ]
  },
  {
   "cell_type": "markdown",
   "id": "e00ba412-b986-4b78-9da9-67b0ed8e7a28",
   "metadata": {},
   "source": [
    "# RESULT"
   ]
  },
  {
   "cell_type": "code",
   "execution_count": 219,
   "id": "4061e35c-6773-4259-96c1-a6c4c6439229",
   "metadata": {
    "scrolled": true
   },
   "outputs": [
    {
     "data": {
      "image/png": "[encoded data removed]",
      "text/plain": [
       "<Figure size 1000x400 with 1 Axes>"
      ]
     },
     "metadata": {},
     "output_type": "display_data"
    }
   ],
   "source": [
    "data = {\n",
    "    'Model': [\n",
    "        'Logistic Regression (No Tuning)',\n",
    "        'Logistic Regression (Tuned)',\n",
    "        'Decision Tree',\n",
    "        'Random Forest',\n",
    "        'XGBoost (No Tuning)',\n",
    "        'XGBoost (Tuned)'\n",
    "    ],\n",
    "    'Train AUC': [0.86, 0.85, 0.99, 0.99, 0.88, 0.90],\n",
    "    'Test AUC': [0.85, 0.72, 0.75, 0.85, 0.85, 0.85]\n",
    "}\n",
    "\n",
    "# Create DataFrame\n",
    "df = pd.DataFrame(data)\n",
    "\n",
    "# Create a plot with the table\n",
    "fig, ax = plt.subplots(figsize=(10, 4)) # set size frame\n",
    "ax.axis('tight')\n",
    "ax.axis('off')\n",
    "table = ax.table(cellText=df.values, colLabels=df.columns, cellLoc='center', loc='center', bbox=[0, 0, 1, 1])\n",
    "plt.show()"
   ]
  },
  {
   "cell_type": "markdown",
   "id": "5f21dc9c-db1d-46d3-9bd2-fb5e081f166b",
   "metadata": {},
   "source": [
    "OBSERVATIONS \n",
    "\n",
    "* Models like Logistic Regression (No Tuning), Random Forest, and XGBoost (both tuned and untuned) exhibit consistent performance between training and   test sets, indicating good generalization.\n",
    "* The Decision Tree model clearly overfits the training data, as seen by the large gap between the training and test AUC. This highlights the importance of using ensemble methods like Random Forest or tuning techniques like in XGBoost to mitigate overfitting.\n",
    "* XGBoost demonstrates robustness, performing well even without tuning, and showing only slight improvements after tuning. This makes it a reliable choice, especially when computational resources for extensive tuning are limited."
   ]
  },
  {
   "cell_type": "markdown",
   "id": "71346118-f98c-4ed4-bb20-192d7e8c1c13",
   "metadata": {},
   "source": [
    "# CONCLUSION\n",
    "\n",
    "* The Random Forest and XGBoost models, both with and without tuning, show strong generalization capabilities with high test AUC scores. These models are less prone to overfitting compared to the Decision Tree model.\n",
    "*  Given the performance across both datasets, XGBoost emerges as a top contender due to its balance between complexity and generalization. While the Random Forest is also a strong candidate, the marginal improvement in training AUC for tuned XGBoost suggests it might edge out in capturing more subtle patterns.\n",
    "\n",
    "In conclusion, XGBoost (both tuned and untuned) and Random Forest stand out as the models with the best trade-offs between training performance and generalization, making them strong candidates for deployment."
   ]
  }
 ],
 "metadata": {
  "kernelspec": {
   "display_name": "Python 3 (ipykernel)",
   "language": "python",
   "name": "python3"
  },
  "language_info": {
   "codemirror_mode": {
    "name": "ipython",
    "version": 3
   },
   "file_extension": ".py",
   "mimetype": "text/x-python",
   "name": "python",
   "nbconvert_exporter": "python",
   "pygments_lexer": "ipython3",
   "version": "3.12.4"
  }
 },
 "nbformat": 4,
 "nbformat_minor": 5
}
